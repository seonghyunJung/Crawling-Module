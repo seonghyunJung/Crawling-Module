{
 "cells": [
  {
   "cell_type": "markdown",
   "id": "dc196919",
   "metadata": {},
   "source": [
    "# 모두닥 크롤링 모듈"
   ]
  },
  {
   "cell_type": "code",
   "execution_count": 2,
   "id": "47379d41",
   "metadata": {},
   "outputs": [
    {
     "name": "stdout",
     "output_type": "stream",
     "text": [
      "Requirement already satisfied: tqdm in c:\\users\\dr.song\\appdata\\local\\programs\\python\\python310\\lib\\site-packages (4.64.0)\n",
      "Requirement already satisfied: colorama in c:\\users\\dr.song\\appdata\\local\\programs\\python\\python310\\lib\\site-packages (from tqdm) (0.4.5)\n",
      "Requirement already satisfied: selenium in c:\\users\\dr.song\\appdata\\local\\programs\\python\\python310\\lib\\site-packages (3.141.0)\n",
      "Requirement already satisfied: urllib3 in c:\\users\\dr.song\\appdata\\local\\programs\\python\\python310\\lib\\site-packages (from selenium) (1.22)\n"
     ]
    }
   ],
   "source": [
    "!pip install tqdm\n",
    "!pip install selenium"
   ]
  },
  {
   "cell_type": "code",
   "execution_count": 6,
   "id": "d00f74f8",
   "metadata": {},
   "outputs": [
    {
     "ename": "ImportError",
     "evalue": "cannot import name 'Mapping' from 'collections' (c:\\Users\\Dr.song\\AppData\\Local\\Programs\\Python\\Python310\\lib\\collections\\__init__.py)",
     "output_type": "error",
     "traceback": [
      "\u001b[1;31m---------------------------------------------------------------------------\u001b[0m",
      "\u001b[1;31mImportError\u001b[0m                               Traceback (most recent call last)",
      "\u001b[1;32mc:\\Users\\Dr.song\\Desktop\\Crawling Module2(Modoodoc).ipynb 셀 3\u001b[0m in \u001b[0;36m<cell line: 3>\u001b[1;34m()\u001b[0m\n\u001b[0;32m      <a href='vscode-notebook-cell:/c%3A/Users/Dr.song/Desktop/Crawling%20Module2%28Modoodoc%29.ipynb#ch0000002?line=0'>1</a>\u001b[0m \u001b[39mfrom\u001b[39;00m \u001b[39mtqdm\u001b[39;00m \u001b[39mimport\u001b[39;00m notebook\n\u001b[0;32m      <a href='vscode-notebook-cell:/c%3A/Users/Dr.song/Desktop/Crawling%20Module2%28Modoodoc%29.ipynb#ch0000002?line=1'>2</a>\u001b[0m \u001b[39mimport\u001b[39;00m \u001b[39mpandas\u001b[39;00m \u001b[39mas\u001b[39;00m \u001b[39mpd\u001b[39;00m    \u001b[39m# csv\u001b[39;00m\n\u001b[1;32m----> <a href='vscode-notebook-cell:/c%3A/Users/Dr.song/Desktop/Crawling%20Module2%28Modoodoc%29.ipynb#ch0000002?line=2'>3</a>\u001b[0m \u001b[39mfrom\u001b[39;00m \u001b[39mselenium\u001b[39;00m\u001b[39m.\u001b[39;00m\u001b[39mwebdriver\u001b[39;00m\u001b[39m.\u001b[39;00m\u001b[39mchrome\u001b[39;00m\u001b[39m.\u001b[39;00m\u001b[39moptions\u001b[39;00m \u001b[39mimport\u001b[39;00m \u001b[39m*\u001b[39m\n\u001b[0;32m      <a href='vscode-notebook-cell:/c%3A/Users/Dr.song/Desktop/Crawling%20Module2%28Modoodoc%29.ipynb#ch0000002?line=3'>4</a>\u001b[0m \u001b[39mfrom\u001b[39;00m \u001b[39mbs4\u001b[39;00m \u001b[39mimport\u001b[39;00m \u001b[39m*\u001b[39m\n\u001b[0;32m      <a href='vscode-notebook-cell:/c%3A/Users/Dr.song/Desktop/Crawling%20Module2%28Modoodoc%29.ipynb#ch0000002?line=4'>5</a>\u001b[0m \u001b[39mimport\u001b[39;00m \u001b[39mtime\u001b[39;00m\n",
      "File \u001b[1;32mc:\\Users\\Dr.song\\AppData\\Local\\Programs\\Python\\Python310\\lib\\site-packages\\selenium\\webdriver\\__init__.py:18\u001b[0m, in \u001b[0;36m<module>\u001b[1;34m\u001b[0m\n\u001b[0;32m      1\u001b[0m \u001b[39m# Licensed to the Software Freedom Conservancy (SFC) under one\u001b[39;00m\n\u001b[0;32m      2\u001b[0m \u001b[39m# or more contributor license agreements.  See the NOTICE file\u001b[39;00m\n\u001b[0;32m      3\u001b[0m \u001b[39m# distributed with this work for additional information\u001b[39;00m\n\u001b[1;32m   (...)\u001b[0m\n\u001b[0;32m     15\u001b[0m \u001b[39m# specific language governing permissions and limitations\u001b[39;00m\n\u001b[0;32m     16\u001b[0m \u001b[39m# under the License.\u001b[39;00m\n\u001b[1;32m---> 18\u001b[0m \u001b[39mfrom\u001b[39;00m \u001b[39m.\u001b[39;00m\u001b[39mfirefox\u001b[39;00m\u001b[39m.\u001b[39;00m\u001b[39mwebdriver\u001b[39;00m \u001b[39mimport\u001b[39;00m WebDriver \u001b[39mas\u001b[39;00m Firefox  \u001b[39m# noqa\u001b[39;00m\n\u001b[0;32m     19\u001b[0m \u001b[39mfrom\u001b[39;00m \u001b[39m.\u001b[39;00m\u001b[39mfirefox\u001b[39;00m\u001b[39m.\u001b[39;00m\u001b[39mfirefox_profile\u001b[39;00m \u001b[39mimport\u001b[39;00m FirefoxProfile  \u001b[39m# noqa\u001b[39;00m\n\u001b[0;32m     20\u001b[0m \u001b[39mfrom\u001b[39;00m \u001b[39m.\u001b[39;00m\u001b[39mfirefox\u001b[39;00m\u001b[39m.\u001b[39;00m\u001b[39moptions\u001b[39;00m \u001b[39mimport\u001b[39;00m Options \u001b[39mas\u001b[39;00m FirefoxOptions  \u001b[39m# noqa\u001b[39;00m\n",
      "File \u001b[1;32mc:\\Users\\Dr.song\\AppData\\Local\\Programs\\Python\\Python310\\lib\\site-packages\\selenium\\webdriver\\firefox\\webdriver.py:29\u001b[0m, in \u001b[0;36m<module>\u001b[1;34m\u001b[0m\n\u001b[0;32m     26\u001b[0m \u001b[39mfrom\u001b[39;00m \u001b[39mcontextlib\u001b[39;00m \u001b[39mimport\u001b[39;00m contextmanager\n\u001b[0;32m     28\u001b[0m \u001b[39mfrom\u001b[39;00m \u001b[39mselenium\u001b[39;00m\u001b[39m.\u001b[39;00m\u001b[39mwebdriver\u001b[39;00m\u001b[39m.\u001b[39;00m\u001b[39mcommon\u001b[39;00m\u001b[39m.\u001b[39;00m\u001b[39mdesired_capabilities\u001b[39;00m \u001b[39mimport\u001b[39;00m DesiredCapabilities\n\u001b[1;32m---> 29\u001b[0m \u001b[39mfrom\u001b[39;00m \u001b[39mselenium\u001b[39;00m\u001b[39m.\u001b[39;00m\u001b[39mwebdriver\u001b[39;00m\u001b[39m.\u001b[39;00m\u001b[39mremote\u001b[39;00m\u001b[39m.\u001b[39;00m\u001b[39mwebdriver\u001b[39;00m \u001b[39mimport\u001b[39;00m WebDriver \u001b[39mas\u001b[39;00m RemoteWebDriver\n\u001b[0;32m     31\u001b[0m \u001b[39mfrom\u001b[39;00m \u001b[39m.\u001b[39;00m\u001b[39mextension_connection\u001b[39;00m \u001b[39mimport\u001b[39;00m ExtensionConnection\n\u001b[0;32m     32\u001b[0m \u001b[39mfrom\u001b[39;00m \u001b[39m.\u001b[39;00m\u001b[39mfirefox_binary\u001b[39;00m \u001b[39mimport\u001b[39;00m FirefoxBinary\n",
      "File \u001b[1;32mc:\\Users\\Dr.song\\AppData\\Local\\Programs\\Python\\Python310\\lib\\site-packages\\selenium\\webdriver\\remote\\webdriver.py:27\u001b[0m, in \u001b[0;36m<module>\u001b[1;34m\u001b[0m\n\u001b[0;32m     25\u001b[0m \u001b[39mfrom\u001b[39;00m \u001b[39m.\u001b[39;00m\u001b[39mcommand\u001b[39;00m \u001b[39mimport\u001b[39;00m Command\n\u001b[0;32m     26\u001b[0m \u001b[39mfrom\u001b[39;00m \u001b[39m.\u001b[39;00m\u001b[39mwebelement\u001b[39;00m \u001b[39mimport\u001b[39;00m WebElement\n\u001b[1;32m---> 27\u001b[0m \u001b[39mfrom\u001b[39;00m \u001b[39m.\u001b[39;00m\u001b[39mremote_connection\u001b[39;00m \u001b[39mimport\u001b[39;00m RemoteConnection\n\u001b[0;32m     28\u001b[0m \u001b[39mfrom\u001b[39;00m \u001b[39m.\u001b[39;00m\u001b[39merrorhandler\u001b[39;00m \u001b[39mimport\u001b[39;00m ErrorHandler\n\u001b[0;32m     29\u001b[0m \u001b[39mfrom\u001b[39;00m \u001b[39m.\u001b[39;00m\u001b[39mswitch_to\u001b[39;00m \u001b[39mimport\u001b[39;00m SwitchTo\n",
      "File \u001b[1;32mc:\\Users\\Dr.song\\AppData\\Local\\Programs\\Python\\Python310\\lib\\site-packages\\selenium\\webdriver\\remote\\remote_connection.py:24\u001b[0m, in \u001b[0;36m<module>\u001b[1;34m\u001b[0m\n\u001b[0;32m     21\u001b[0m \u001b[39mimport\u001b[39;00m \u001b[39msocket\u001b[39;00m\n\u001b[0;32m     22\u001b[0m \u001b[39mimport\u001b[39;00m \u001b[39mstring\u001b[39;00m\n\u001b[1;32m---> 24\u001b[0m \u001b[39mimport\u001b[39;00m \u001b[39murllib3\u001b[39;00m\n\u001b[0;32m     26\u001b[0m \u001b[39mtry\u001b[39;00m:\n\u001b[0;32m     27\u001b[0m     \u001b[39mfrom\u001b[39;00m \u001b[39murllib\u001b[39;00m \u001b[39mimport\u001b[39;00m parse\n",
      "File \u001b[1;32mc:\\Users\\Dr.song\\AppData\\Local\\Programs\\Python\\Python310\\lib\\site-packages\\urllib3\\__init__.py:8\u001b[0m, in \u001b[0;36m<module>\u001b[1;34m\u001b[0m\n\u001b[0;32m      5\u001b[0m \u001b[39mfrom\u001b[39;00m \u001b[39m__future__\u001b[39;00m \u001b[39mimport\u001b[39;00m absolute_import\n\u001b[0;32m      6\u001b[0m \u001b[39mimport\u001b[39;00m \u001b[39mwarnings\u001b[39;00m\n\u001b[1;32m----> 8\u001b[0m \u001b[39mfrom\u001b[39;00m \u001b[39m.\u001b[39;00m\u001b[39mconnectionpool\u001b[39;00m \u001b[39mimport\u001b[39;00m (\n\u001b[0;32m      9\u001b[0m     HTTPConnectionPool,\n\u001b[0;32m     10\u001b[0m     HTTPSConnectionPool,\n\u001b[0;32m     11\u001b[0m     connection_from_url\n\u001b[0;32m     12\u001b[0m )\n\u001b[0;32m     14\u001b[0m \u001b[39mfrom\u001b[39;00m \u001b[39m.\u001b[39;00m \u001b[39mimport\u001b[39;00m exceptions\n\u001b[0;32m     15\u001b[0m \u001b[39mfrom\u001b[39;00m \u001b[39m.\u001b[39;00m\u001b[39mfilepost\u001b[39;00m \u001b[39mimport\u001b[39;00m encode_multipart_formdata\n",
      "File \u001b[1;32mc:\\Users\\Dr.song\\AppData\\Local\\Programs\\Python\\Python310\\lib\\site-packages\\urllib3\\connectionpool.py:29\u001b[0m, in \u001b[0;36m<module>\u001b[1;34m\u001b[0m\n\u001b[0;32m     27\u001b[0m \u001b[39mfrom\u001b[39;00m \u001b[39m.\u001b[39;00m\u001b[39mpackages\u001b[39;00m \u001b[39mimport\u001b[39;00m six\n\u001b[0;32m     28\u001b[0m \u001b[39mfrom\u001b[39;00m \u001b[39m.\u001b[39;00m\u001b[39mpackages\u001b[39;00m\u001b[39m.\u001b[39;00m\u001b[39msix\u001b[39;00m\u001b[39m.\u001b[39;00m\u001b[39mmoves\u001b[39;00m \u001b[39mimport\u001b[39;00m queue\n\u001b[1;32m---> 29\u001b[0m \u001b[39mfrom\u001b[39;00m \u001b[39m.\u001b[39;00m\u001b[39mconnection\u001b[39;00m \u001b[39mimport\u001b[39;00m (\n\u001b[0;32m     30\u001b[0m     port_by_scheme,\n\u001b[0;32m     31\u001b[0m     DummyConnection,\n\u001b[0;32m     32\u001b[0m     HTTPConnection, HTTPSConnection, VerifiedHTTPSConnection,\n\u001b[0;32m     33\u001b[0m     HTTPException, BaseSSLError,\n\u001b[0;32m     34\u001b[0m )\n\u001b[0;32m     35\u001b[0m \u001b[39mfrom\u001b[39;00m \u001b[39m.\u001b[39;00m\u001b[39mrequest\u001b[39;00m \u001b[39mimport\u001b[39;00m RequestMethods\n\u001b[0;32m     36\u001b[0m \u001b[39mfrom\u001b[39;00m \u001b[39m.\u001b[39;00m\u001b[39mresponse\u001b[39;00m \u001b[39mimport\u001b[39;00m HTTPResponse\n",
      "File \u001b[1;32mc:\\Users\\Dr.song\\AppData\\Local\\Programs\\Python\\Python310\\lib\\site-packages\\urllib3\\connection.py:39\u001b[0m, in \u001b[0;36m<module>\u001b[1;34m\u001b[0m\n\u001b[0;32m     31\u001b[0m \u001b[39mfrom\u001b[39;00m \u001b[39m.\u001b[39;00m\u001b[39mexceptions\u001b[39;00m \u001b[39mimport\u001b[39;00m (\n\u001b[0;32m     32\u001b[0m     NewConnectionError,\n\u001b[0;32m     33\u001b[0m     ConnectTimeoutError,\n\u001b[0;32m     34\u001b[0m     SubjectAltNameWarning,\n\u001b[0;32m     35\u001b[0m     SystemTimeWarning,\n\u001b[0;32m     36\u001b[0m )\n\u001b[0;32m     37\u001b[0m \u001b[39mfrom\u001b[39;00m \u001b[39m.\u001b[39;00m\u001b[39mpackages\u001b[39;00m\u001b[39m.\u001b[39;00m\u001b[39mssl_match_hostname\u001b[39;00m \u001b[39mimport\u001b[39;00m match_hostname, CertificateError\n\u001b[1;32m---> 39\u001b[0m \u001b[39mfrom\u001b[39;00m \u001b[39m.\u001b[39;00m\u001b[39mutil\u001b[39;00m\u001b[39m.\u001b[39;00m\u001b[39mssl_\u001b[39;00m \u001b[39mimport\u001b[39;00m (\n\u001b[0;32m     40\u001b[0m     resolve_cert_reqs,\n\u001b[0;32m     41\u001b[0m     resolve_ssl_version,\n\u001b[0;32m     42\u001b[0m     assert_fingerprint,\n\u001b[0;32m     43\u001b[0m     create_urllib3_context,\n\u001b[0;32m     44\u001b[0m     ssl_wrap_socket\n\u001b[0;32m     45\u001b[0m )\n\u001b[0;32m     48\u001b[0m \u001b[39mfrom\u001b[39;00m \u001b[39m.\u001b[39;00m\u001b[39mutil\u001b[39;00m \u001b[39mimport\u001b[39;00m connection\n\u001b[0;32m     50\u001b[0m \u001b[39mfrom\u001b[39;00m \u001b[39m.\u001b[39;00m\u001b[39m_collections\u001b[39;00m \u001b[39mimport\u001b[39;00m HTTPHeaderDict\n",
      "File \u001b[1;32mc:\\Users\\Dr.song\\AppData\\Local\\Programs\\Python\\Python310\\lib\\site-packages\\urllib3\\util\\__init__.py:3\u001b[0m, in \u001b[0;36m<module>\u001b[1;34m\u001b[0m\n\u001b[0;32m      1\u001b[0m \u001b[39mfrom\u001b[39;00m \u001b[39m__future__\u001b[39;00m \u001b[39mimport\u001b[39;00m absolute_import\n\u001b[0;32m      2\u001b[0m \u001b[39m# For backwards compatibility, provide imports that used to be here.\u001b[39;00m\n\u001b[1;32m----> 3\u001b[0m \u001b[39mfrom\u001b[39;00m \u001b[39m.\u001b[39;00m\u001b[39mconnection\u001b[39;00m \u001b[39mimport\u001b[39;00m is_connection_dropped\n\u001b[0;32m      4\u001b[0m \u001b[39mfrom\u001b[39;00m \u001b[39m.\u001b[39;00m\u001b[39mrequest\u001b[39;00m \u001b[39mimport\u001b[39;00m make_headers\n\u001b[0;32m      5\u001b[0m \u001b[39mfrom\u001b[39;00m \u001b[39m.\u001b[39;00m\u001b[39mresponse\u001b[39;00m \u001b[39mimport\u001b[39;00m is_fp_closed\n",
      "File \u001b[1;32mc:\\Users\\Dr.song\\AppData\\Local\\Programs\\Python\\Python310\\lib\\site-packages\\urllib3\\util\\connection.py:3\u001b[0m, in \u001b[0;36m<module>\u001b[1;34m\u001b[0m\n\u001b[0;32m      1\u001b[0m \u001b[39mfrom\u001b[39;00m \u001b[39m__future__\u001b[39;00m \u001b[39mimport\u001b[39;00m absolute_import\n\u001b[0;32m      2\u001b[0m \u001b[39mimport\u001b[39;00m \u001b[39msocket\u001b[39;00m\n\u001b[1;32m----> 3\u001b[0m \u001b[39mfrom\u001b[39;00m \u001b[39m.\u001b[39;00m\u001b[39mwait\u001b[39;00m \u001b[39mimport\u001b[39;00m wait_for_read\n\u001b[0;32m      4\u001b[0m \u001b[39mfrom\u001b[39;00m \u001b[39m.\u001b[39;00m\u001b[39mselectors\u001b[39;00m \u001b[39mimport\u001b[39;00m HAS_SELECT, SelectorError\n\u001b[0;32m      7\u001b[0m \u001b[39mdef\u001b[39;00m \u001b[39mis_connection_dropped\u001b[39m(conn):  \u001b[39m# Platform-specific\u001b[39;00m\n",
      "File \u001b[1;32mc:\\Users\\Dr.song\\AppData\\Local\\Programs\\Python\\Python310\\lib\\site-packages\\urllib3\\util\\wait.py:1\u001b[0m, in \u001b[0;36m<module>\u001b[1;34m\u001b[0m\n\u001b[1;32m----> 1\u001b[0m \u001b[39mfrom\u001b[39;00m \u001b[39m.\u001b[39;00m\u001b[39mselectors\u001b[39;00m \u001b[39mimport\u001b[39;00m (\n\u001b[0;32m      2\u001b[0m     HAS_SELECT,\n\u001b[0;32m      3\u001b[0m     DefaultSelector,\n\u001b[0;32m      4\u001b[0m     EVENT_READ,\n\u001b[0;32m      5\u001b[0m     EVENT_WRITE\n\u001b[0;32m      6\u001b[0m )\n\u001b[0;32m      9\u001b[0m \u001b[39mdef\u001b[39;00m \u001b[39m_wait_for_io_events\u001b[39m(socks, events, timeout\u001b[39m=\u001b[39m\u001b[39mNone\u001b[39;00m):\n\u001b[0;32m     10\u001b[0m     \u001b[39m\"\"\" Waits for IO events to be available from a list of sockets\u001b[39;00m\n\u001b[0;32m     11\u001b[0m \u001b[39m    or optionally a single socket if passed in. Returns a list of\u001b[39;00m\n\u001b[0;32m     12\u001b[0m \u001b[39m    sockets that can be interacted with immediately. \"\"\"\u001b[39;00m\n",
      "File \u001b[1;32mc:\\Users\\Dr.song\\AppData\\Local\\Programs\\Python\\Python310\\lib\\site-packages\\urllib3\\util\\selectors.py:14\u001b[0m, in \u001b[0;36m<module>\u001b[1;34m\u001b[0m\n\u001b[0;32m     12\u001b[0m \u001b[39mimport\u001b[39;00m \u001b[39msys\u001b[39;00m\n\u001b[0;32m     13\u001b[0m \u001b[39mimport\u001b[39;00m \u001b[39mtime\u001b[39;00m\n\u001b[1;32m---> 14\u001b[0m \u001b[39mfrom\u001b[39;00m \u001b[39mcollections\u001b[39;00m \u001b[39mimport\u001b[39;00m namedtuple, Mapping\n\u001b[0;32m     16\u001b[0m \u001b[39mtry\u001b[39;00m:\n\u001b[0;32m     17\u001b[0m     monotonic \u001b[39m=\u001b[39m time\u001b[39m.\u001b[39mmonotonic\n",
      "\u001b[1;31mImportError\u001b[0m: cannot import name 'Mapping' from 'collections' (c:\\Users\\Dr.song\\AppData\\Local\\Programs\\Python\\Python310\\lib\\collections\\__init__.py)"
     ]
    }
   ],
   "source": [
    "from tqdm import notebook\n",
    "import pandas as pd    # csv\n",
    "from selenium.webdriver.chrome.options import *\n",
    "from bs4 import *\n",
    "import time\n",
    "import re\n",
    "import base64    # encoder\n",
    "from selenium import webdriver as wb\n",
    "# Keys = 컴퓨터의 키보드와 같은 역할 모듈, 컴퓨터가 쓸 키보드 \n",
    "from selenium.webdriver.common.keys import Keys\n",
    "from selenium.webdriver.common.by import By\n",
    "\n",
    "chrome_options = Options()\n",
    "chrome_options.add_argument('--headless')\n",
    "chrome_options.add_argument('--no-sandbox')\n",
    "chrome_options.add_argument('--disable-dev-shm-usage')"
   ]
  },
  {
   "cell_type": "code",
   "execution_count": 7,
   "id": "19884ddb",
   "metadata": {},
   "outputs": [
    {
     "name": "stdout",
     "output_type": "stream",
     "text": [
      "4.3.0\n"
     ]
    }
   ],
   "source": [
    "# 버전 체크\n",
    "\n",
    "print(wb.__version__)"
   ]
  },
  {
   "cell_type": "markdown",
   "id": "d3607a38",
   "metadata": {},
   "source": [
    "# 병원 리스트들 뜨는 페이지에서 처리하는 부분"
   ]
  },
  {
   "cell_type": "code",
   "execution_count": 28,
   "id": "297ae7d6",
   "metadata": {},
   "outputs": [],
   "source": [
    "# 현재 페이지 내 병원 박스 가져오는 함수\n",
    "def get_hospital_boxes():\n",
    "    element_boxes = driver.find_elements(\"xpath\", \"//div[@class='doctor-total-box border-bottom']\")\n",
    "    \n",
    "    return element_boxes\n",
    "\n",
    "\n",
    "# 한 페이지에서 병원 url들과 리뷰 갯수 리스트로 가져오는 함수\n",
    "def get_list_url_and_num_review(hospital_boxes):\n",
    "    list_data = []\n",
    "    for hospital_box in hospital_boxes:\n",
    "        data = [get_hospital_url(hospital_box), get_num_review(hospital_box)]\n",
    "        list_data.append(data)\n",
    "        \n",
    "    return list_data\n",
    "\n",
    "\n",
    "# 박스에서 리뷰 갯수 가져오는 함수\n",
    "def get_num_review(element_box):\n",
    "    num_review = element_box.find_element(By.CLASS_NAME, \"hospitals-review-count\").text\n",
    "    num_review = num_review[3:]\n",
    "    num_review = int(num_review)\n",
    "    \n",
    "    return num_review\n",
    "\n",
    "\n",
    "# 병원 url 가져오는 함수\n",
    "def get_hospital_url(element_box):\n",
    "    temp = element_box.find_element(By.TAG_NAME, \"a\")\n",
    "    hospital_url = temp.get_attribute(\"href\")\n",
    "    \n",
    "    return hospital_url\n",
    "\n",
    "\n",
    "# 병원 리스트 페이지에서에서 해당 페이지로 넘어가는 함수\n",
    "def move_in_hospital_list_page(hospital_kind_query, hospital_kind, page):\n",
    "    page_url = hospital_kind_query + hospital_kind + \"&page=\" + str(page)\n",
    "    driver.get(page_url)\n"
   ]
  },
  {
   "cell_type": "markdown",
   "id": "80a73959",
   "metadata": {},
   "source": [
    "# 리뷰 페이지에서 처리하는 부분"
   ]
  },
  {
   "cell_type": "code",
   "execution_count": 31,
   "id": "988a433c",
   "metadata": {},
   "outputs": [],
   "source": [
    "# 병원 이름 가져오는 함수\n",
    "def get_hospital_name():\n",
    "    hospital_name = driver.find_element(By.CLASS_NAME, \"hospital-doctor-name-box\").text\n",
    "    \n",
    "    return hospital_name\n",
    "\n",
    "\n",
    "# 리뷰 박스들 가져오는 함수\n",
    "def get_review_boxes():\n",
    "    element_boxes = driver.find_elements(\"xpath\", \"//div[@class='review-in-detail-text-box-content col-8 pl-5']\")\n",
    "    \n",
    "    return element_boxes\n",
    "\n",
    "\n",
    "# 리뷰 박스에서 받은 치료 가져오는 함수\n",
    "def get_therapy(element_box):\n",
    "    therapy = element_box.find_element(By.CLASS_NAME, \"title-box\").text\n",
    "    therapy = therapy[8:]\n",
    "    \n",
    "    return therapy\n",
    "\n",
    "\n",
    "# 리뷰 박스에서 리뷰 텍스트 가져오는 함수\n",
    "def get_review(element_box):\n",
    "    review = element_box.find_element(By.CLASS_NAME, \"content-box\").text\n",
    "    review = clean_text(review)\n",
    "\n",
    "    return review\n",
    "\n",
    "\n",
    "# 리뷰 페이지에서 해당 페이지로 넘어가는 함수\n",
    "def move_in_review_page(current_url, page):\n",
    "    page_url = current_url +  \"?page=\" + str(page)\n",
    "    driver.get(page_url)\n",
    "\n",
    "\n",
    "# 병원 분과 페이지에서 총 몇 페이지까지 있는지 구하는 함수\n",
    "def get_total_page():\n",
    "    move_to_last_page()\n",
    "    time.sleep(1)\n",
    "    total_page = get_page_count()\n",
    "    driver.back()\n",
    "    time.sleep(1)\n",
    "    \n",
    "    return total_page\n",
    "\n",
    "\n",
    "# 끝 페이지 이동하는 함수\n",
    "def move_to_last_page():\n",
    "    driver.find_element('xpath', '/html/body/div[3]/div/div/div[1]/div[3]/nav/ul/li[4]/a').click()\n",
    "\n",
    "    \n",
    "# 현재 페이지 몇인지 구하는 함수\n",
    "def get_page_count():\n",
    "    page_count = []\n",
    "    \n",
    "    for text in driver.current_url[::-1]:\n",
    "        if text == '=':\n",
    "            break\n",
    "        page_count.append(text)\n",
    "    page_count.reverse()\n",
    "    page_count = int(''.join(page_count))\n",
    "    \n",
    "    return page_count\n"
   ]
  },
  {
   "cell_type": "code",
   "execution_count": 3,
   "id": "71a07edd",
   "metadata": {},
   "outputs": [],
   "source": [
    "# 로그인\n",
    "def login(id, password):\n",
    "    driver.find_element('xpath', '/html/body/nav/div/div/ul[2]/ul/li[3]/a').click() #id 속성으로 접근\n",
    "\n",
    "    user_email = driver.find_element('xpath', '/html/body/div[12]/div/div/div[3]/form/input[1]')\n",
    "    user_email.send_keys(id)\n",
    "    user_password = driver.find_element('xpath', '/html/body/div[12]/div/div/div[3]/form/input[2]')\n",
    "    user_password.send_keys(password)\n",
    "\n",
    "    # 로그인 버튼 클릭\n",
    "    driver.find_element('xpath', '/html/body/div[12]/div/div/div[3]/form/button').click()\n",
    "    time.sleep(3)\n",
    "\n",
    "\n",
    "# 텍스트 전처리\n",
    "def clean_text(text):\n",
    "    cleaned_text = re.sub('[\\n]', ' ', text)\n",
    "    \n",
    "    return cleaned_text"
   ]
  },
  {
   "cell_type": "markdown",
   "id": "570b61ff",
   "metadata": {},
   "source": [
    "# 크롤링 데이터 전처리"
   ]
  },
  {
   "cell_type": "code",
   "execution_count": 4,
   "id": "0ac9e758",
   "metadata": {},
   "outputs": [],
   "source": [
    "# 엑셀 파일 리뷰 부분 전처리하는 함수(.xlsx 제외하고 입력)\n",
    "def do_preprocess(file_name):\n",
    "    df = pd.read_excel(file_name + \".xlsx\")\n",
    "    not_using_text_list = [\"한줄평\", \"병원리뷰\", r\"[0-9].\"]\n",
    "    \n",
    "    for i in range(len(df)):\n",
    "        temp = df.loc[i, '리뷰']\n",
    "        temp = preprocess(temp)\n",
    "        \n",
    "        for not_using_text in not_using_text_list:\n",
    "            temp = remove_text(temp, not_using_text)\n",
    "            \n",
    "        df.loc[i, '리뷰'] = temp\n",
    "        \n",
    "    df.to_excel(file_name + \"전처리\" + \".xlsx\")\n",
    "\n",
    "    \n",
    "# 텍스트 전처리하는 함수\n",
    "def preprocess(text):\n",
    "    text= re.sub(r\"[ㄱ-ㅎㅏ-ㅣ]+\", \".\", text)\n",
    "    text = re.sub(r\"[\\`\\~\\@\\#\\$\\%\\^\\&\\*\\(\\)\\-\\_\\=\\+\\<\\>\\;\\:\\'\\\"\\[\\]\\{\\}\\\\\\/]\", \" \", text)\n",
    "    text = re.sub(r\"[^가-힣A-Za-z0-9\\.\\?\\!]\", \" \", text)\n",
    "    text = re.sub(r\"\\s*[\\.]+\", \".\", text)\n",
    "    text = re.sub(r\"\\s*[\\?]+\", \"?\", text)\n",
    "    text = re.sub(r\"\\s*[\\!]+\", \"!\", text)\n",
    "    text = re.sub(r\"\\s+\", \" \", text)\n",
    "    text.strip()\n",
    "    \n",
    "    return text\n",
    "\n",
    "\n",
    "# 불용어 제거하는 함수\n",
    "def remove_text(original_text, not_using_text):\n",
    "    result = re.sub(not_using_text, \"\", original_text)\n",
    "    \n",
    "    return result"
   ]
  },
  {
   "cell_type": "code",
   "execution_count": 4,
   "id": "a8c99021",
   "metadata": {},
   "outputs": [
    {
     "ename": "NameError",
     "evalue": "name 'wb' is not defined",
     "output_type": "error",
     "traceback": [
      "\u001b[1;31m---------------------------------------------------------------------------\u001b[0m",
      "\u001b[1;31mNameError\u001b[0m                                 Traceback (most recent call last)",
      "\u001b[1;32mc:\\Users\\Dr.song\\Desktop\\Crawling Module2(Modoodoc).ipynb 셀 12\u001b[0m in \u001b[0;36m<cell line: 8>\u001b[1;34m()\u001b[0m\n\u001b[0;32m      <a href='vscode-notebook-cell:/c%3A/Users/Dr.song/Desktop/Crawling%20Module2%28Modoodoc%29.ipynb#ch0000011?line=3'>4</a>\u001b[0m modoodoc_url \u001b[39m=\u001b[39m \u001b[39m\"\u001b[39m\u001b[39mhttps://www.modoodoc.com/\u001b[39m\u001b[39m\"\u001b[39m\n\u001b[0;32m      <a href='vscode-notebook-cell:/c%3A/Users/Dr.song/Desktop/Crawling%20Module2%28Modoodoc%29.ipynb#ch0000011?line=5'>6</a>\u001b[0m \u001b[39m## 크롬 드라이버 실행\u001b[39;00m\n\u001b[0;32m      <a href='vscode-notebook-cell:/c%3A/Users/Dr.song/Desktop/Crawling%20Module2%28Modoodoc%29.ipynb#ch0000011?line=6'>7</a>\u001b[0m \u001b[39m#  wb.Chrome() = 컴퓨터가 크롬창을 씀\u001b[39;00m\n\u001b[1;32m----> <a href='vscode-notebook-cell:/c%3A/Users/Dr.song/Desktop/Crawling%20Module2%28Modoodoc%29.ipynb#ch0000011?line=7'>8</a>\u001b[0m driver \u001b[39m=\u001b[39m wb\u001b[39m.\u001b[39mChrome()\n\u001b[0;32m     <a href='vscode-notebook-cell:/c%3A/Users/Dr.song/Desktop/Crawling%20Module2%28Modoodoc%29.ipynb#ch0000011?line=9'>10</a>\u001b[0m \u001b[39m# 모두닥 페이지 이동\u001b[39;00m\n\u001b[0;32m     <a href='vscode-notebook-cell:/c%3A/Users/Dr.song/Desktop/Crawling%20Module2%28Modoodoc%29.ipynb#ch0000011?line=10'>11</a>\u001b[0m driver\u001b[39m.\u001b[39mget(modoodoc_url)\n",
      "\u001b[1;31mNameError\u001b[0m: name 'wb' is not defined"
     ]
    }
   ],
   "source": [
    "# 모두닥 페이지 접속 후 로그인\n",
    "\n",
    "# 모두닥 페이지 url\n",
    "modoodoc_url = \"https://www.modoodoc.com/\"\n",
    "\n",
    "## 크롬 드라이버 실행\n",
    "#  wb.Chrome() = 컴퓨터가 크롬창을 씀\n",
    "driver = wb.Chrome()\n",
    "\n",
    "# 모두닥 페이지 이동\n",
    "driver.get(modoodoc_url)\n",
    "\n",
    "# 로그인\n",
    "id = 'random1234@random.com'\n",
    "password = 'random1234'\n",
    "login(id, password)"
   ]
  },
  {
   "cell_type": "code",
   "execution_count": null,
   "id": "e0b5ddb7",
   "metadata": {},
   "outputs": [
    {
     "data": {
      "application/vnd.jupyter.widget-view+json": {
       "model_id": "2d0e5f0ef0e64564bb304a84c93855ba",
       "version_major": 2,
       "version_minor": 0
      },
      "text/plain": [
       "  0%|          | 0/430 [00:00<?, ?it/s]"
      ]
     },
     "metadata": {},
     "output_type": "display_data"
    },
    {
     "data": {
      "application/vnd.jupyter.widget-view+json": {
       "model_id": "eb64edeb7a9d4101b29a0d8196f29229",
       "version_major": 2,
       "version_minor": 0
      },
      "text/plain": [
       "  0%|          | 0/176 [00:00<?, ?it/s]"
      ]
     },
     "metadata": {},
     "output_type": "display_data"
    }
   ],
   "source": [
    "# 병원 분과 종류\n",
    "hospital_kind_list = ['치과', '피부과', '성형외과', '산부인과', '정신건강의학과', '비뇨기과','재활의학과', '외과', '소아과', '가정의학과', '한의원']\n",
    "\n",
    "# 모두닥 병원 접근 쿼리\n",
    "hospital_kind_query = \"https://www.modoodoc.com/hospitals/?search_query=\"\n",
    "\n",
    "\n",
    "for hospital_kind in hospital_kind_list:\n",
    "    writer = pd.ExcelWriter(f'모두닥({hospital_kind}).xlsx', engine='xlsxwriter')\n",
    "    count = 0\n",
    "    \n",
    "    driver.get(hospital_kind_query + hospital_kind)\n",
    "    time.sleep(1)\n",
    "    hospital_total_page = get_total_page()\n",
    "    time.sleep(1)\n",
    "    \n",
    "    \n",
    "    data = []\n",
    "    data_unit = []\n",
    "\n",
    "    for i in notebook.tqdm(range(1, hospital_total_page + 1)):\n",
    "        try:\n",
    "            if (count > 25000):\n",
    "                break\n",
    "\n",
    "            move_in_hospital_list_page(hospital_kind_query, hospital_kind, i)\n",
    "            time.sleep(1)\n",
    "\n",
    "            hospital_boxes = get_hospital_boxes()\n",
    "            list_url_and_num_review = get_list_url_and_num_review(hospital_boxes)\n",
    "\n",
    "\n",
    "            for url, num_review in list_url_and_num_review:\n",
    "                try:\n",
    "#                     if (count > 25000):\n",
    "#                                     break\n",
    "\n",
    "                    if (num_review == 0):\n",
    "                        continue\n",
    "\n",
    "                    num_review_page = (num_review // 10) + 1\n",
    "\n",
    "        #             driver.get(url)\n",
    "        #             time.sleep(1)\n",
    "\n",
    "        #             current_url = driver.current_url\n",
    "\n",
    "                    for page in range(1, num_review_page+1):\n",
    "                        try:\n",
    "#                             if (count > 25000):\n",
    "#                                         break\n",
    "\n",
    "                            move_in_review_page(url, page)\n",
    "                            time.sleep(1)\n",
    "\n",
    "                            hospital_name = get_hospital_name()\n",
    "                            review_boxes = get_review_boxes()\n",
    "\n",
    "                            for review_box in review_boxes:\n",
    "                                try:\n",
    "                                    if (count > 25000):\n",
    "                                        break\n",
    "\n",
    "                                    therapy = get_therapy(review_box)\n",
    "                                    review = get_review(review_box)\n",
    "\n",
    "                                    data_unit = [hospital_kind, hospital_name, therapy, review]\n",
    "                                    data.append(data_unit)\n",
    "                                    count += 1\n",
    "                                    \n",
    "                                except:\n",
    "                                    pass\n",
    "                        except:\n",
    "                            pass\n",
    "                except:\n",
    "                    pass\n",
    "        except:\n",
    "            pass\n",
    "\n",
    "                    \n",
    "    # 데이터 프레임 생성 및 데이터 입력\n",
    "    df = pd.DataFrame(columns = ['분과', '병원명', '받은 치료', '리뷰'])\n",
    "    num = len(data)\n",
    "\n",
    "    for i in range(num):\n",
    "        df.loc[i]=data[i]\n",
    "\n",
    "   \n",
    "    df.to_excel(f'모두닥({hospital_kind}).xlsx', sheet_name = hospital_kind)"
   ]
  }
 ],
 "metadata": {
  "kernelspec": {
   "display_name": "Python 3.10.5 64-bit",
   "language": "python",
   "name": "python3"
  },
  "language_info": {
   "codemirror_mode": {
    "name": "ipython",
    "version": 3
   },
   "file_extension": ".py",
   "mimetype": "text/x-python",
   "name": "python",
   "nbconvert_exporter": "python",
   "pygments_lexer": "ipython3",
   "version": "3.10.5"
  },
  "vscode": {
   "interpreter": {
    "hash": "db501365f301c6133c863e35ca915b9359529993bccbd1b97756d74d527220e6"
   }
  }
 },
 "nbformat": 4,
 "nbformat_minor": 5
}
