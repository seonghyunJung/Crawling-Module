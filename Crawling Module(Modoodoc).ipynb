{
 "cells": [
  {
   "cell_type": "code",
   "execution_count": 108,
   "id": "f260a8d4",
   "metadata": {},
   "outputs": [],
   "source": [
    "# 모두닥 크롤링 모듈"
   ]
  },
  {
   "cell_type": "code",
   "execution_count": 109,
   "id": "e9638977",
   "metadata": {},
   "outputs": [
    {
     "data": {
      "text/plain": [
       "'3.8.13 (default, Mar 28 2022, 06:59:08) [MSC v.1916 64 bit (AMD64)]'"
      ]
     },
     "execution_count": 109,
     "metadata": {},
     "output_type": "execute_result"
    }
   ],
   "source": [
    "import sys\n",
    "\n",
    "sys.version"
   ]
  },
  {
   "cell_type": "code",
   "execution_count": 110,
   "id": "0c9392c6",
   "metadata": {},
   "outputs": [
    {
     "name": "stdout",
     "output_type": "stream",
     "text": [
      "Defaulting to user installation because normal site-packages is not writeable\n",
      "Requirement already satisfied: selenium in c:\\users\\dr.song\\appdata\\roaming\\python\\python38\\site-packages (4.3.0)\n",
      "Requirement already satisfied: trio~=0.17 in c:\\users\\dr.song\\appdata\\roaming\\python\\python38\\site-packages (from selenium) (0.21.0)\n",
      "Requirement already satisfied: urllib3[secure,socks]~=1.26 in c:\\programdata\\anaconda3\\lib\\site-packages (from selenium) (1.26.9)\n",
      "Requirement already satisfied: trio-websocket~=0.9 in c:\\users\\dr.song\\appdata\\roaming\\python\\python38\\site-packages (from selenium) (0.9.2)\n",
      "Requirement already satisfied: sortedcontainers in c:\\programdata\\anaconda3\\lib\\site-packages (from trio~=0.17->selenium) (2.4.0)\n",
      "Requirement already satisfied: cffi>=1.14 in c:\\programdata\\anaconda3\\lib\\site-packages (from trio~=0.17->selenium) (1.15.0)\n",
      "Requirement already satisfied: outcome in c:\\users\\dr.song\\appdata\\roaming\\python\\python38\\site-packages (from trio~=0.17->selenium) (1.2.0)\n",
      "Requirement already satisfied: sniffio in c:\\programdata\\anaconda3\\lib\\site-packages (from trio~=0.17->selenium) (1.2.0)\n",
      "Requirement already satisfied: attrs>=19.2.0 in c:\\programdata\\anaconda3\\lib\\site-packages (from trio~=0.17->selenium) (21.4.0)\n",
      "Requirement already satisfied: idna in c:\\programdata\\anaconda3\\lib\\site-packages (from trio~=0.17->selenium) (3.3)\n",
      "Requirement already satisfied: async-generator>=1.9 in c:\\users\\dr.song\\appdata\\roaming\\python\\python38\\site-packages (from trio~=0.17->selenium) (1.10)\n",
      "Requirement already satisfied: pycparser in c:\\programdata\\anaconda3\\lib\\site-packages (from cffi>=1.14->trio~=0.17->selenium) (2.21)\n",
      "Requirement already satisfied: wsproto>=0.14 in c:\\users\\dr.song\\appdata\\roaming\\python\\python38\\site-packages (from trio-websocket~=0.9->selenium) (1.1.0)\n",
      "Requirement already satisfied: pyOpenSSL>=0.14 in c:\\programdata\\anaconda3\\lib\\site-packages (from urllib3[secure,socks]~=1.26->selenium) (21.0.0)\n",
      "Requirement already satisfied: certifi in c:\\programdata\\anaconda3\\lib\\site-packages (from urllib3[secure,socks]~=1.26->selenium) (2021.10.8)\n",
      "Requirement already satisfied: cryptography>=1.3.4 in c:\\programdata\\anaconda3\\lib\\site-packages (from urllib3[secure,socks]~=1.26->selenium) (3.4.8)\n",
      "Requirement already satisfied: PySocks!=1.5.7,<2.0,>=1.5.6 in c:\\programdata\\anaconda3\\lib\\site-packages (from urllib3[secure,socks]~=1.26->selenium) (1.7.1)\n",
      "Requirement already satisfied: six>=1.5.2 in c:\\programdata\\anaconda3\\lib\\site-packages (from pyOpenSSL>=0.14->urllib3[secure,socks]~=1.26->selenium) (1.16.0)\n",
      "Requirement already satisfied: h11<1,>=0.9.0 in c:\\users\\dr.song\\appdata\\roaming\\python\\python38\\site-packages (from wsproto>=0.14->trio-websocket~=0.9->selenium) (0.13.0)\n"
     ]
    }
   ],
   "source": [
    "!pip install selenium"
   ]
  },
  {
   "cell_type": "code",
   "execution_count": 202,
   "id": "d00f74f8",
   "metadata": {},
   "outputs": [],
   "source": [
    "import pandas as pd    # csv\n",
    "from selenium.webdriver.chrome.options import *\n",
    "from bs4 import *\n",
    "import time\n",
    "import re\n",
    "import base64    # encoder\n",
    "# webdriver = 웹페이지를 제어하기 위한 모듈 >> 웹 그자체가 됨!\n",
    "from selenium import webdriver as wb\n",
    "# Keys = 컴퓨터의 키보드와 같은 역할 모듈, 컴퓨터가 쓸 키보드 \n",
    "from selenium.webdriver.common.keys import Keys\n",
    "\n",
    "chrome_options = Options()\n",
    "chrome_options.add_argument('--headless')\n",
    "chrome_options.add_argument('--no-sandbox')\n",
    "chrome_options.add_argument('--disable-dev-shm-usage')"
   ]
  },
  {
   "cell_type": "code",
   "execution_count": 204,
   "id": "18c97320",
   "metadata": {},
   "outputs": [],
   "source": [
    "# 로그인\n",
    "def login(id, password):\n",
    "    driver.find_element('xpath', '/html/body/nav/div/div/ul[2]/ul/li[3]/a').click() #id 속성으로 접근\n",
    "\n",
    "    user_email = driver.find_element('xpath', '/html/body/div[12]/div/div/div[3]/form/input[1]')\n",
    "    user_email.send_keys(id)\n",
    "    user_password = driver.find_element('xpath', '/html/body/div[12]/div/div/div[3]/form/input[2]')\n",
    "    user_password.send_keys(password)\n",
    "\n",
    "    # 로그인 버튼 클릭\n",
    "    driver.find_element('xpath', '/html/body/div[12]/div/div/div[3]/form/button').click()\n",
    "    time.sleep(3)\n",
    "\n",
    "    \n",
    "# 크롤링 하려는 병원 이동\n",
    "def move_to_hospital(url):\n",
    "    driver.get(url)\n",
    "    time.sleep(1)\n",
    "\n",
    "    \n",
    "# 병원의 리뷰 페이지 수 계산\n",
    "def count_page():\n",
    "    num_review = driver.find_element('xpath', '/html/body/div[3]/div/div[2]/div[2]/div/div[1]/div[1]').text[7:]\n",
    "    num_review = int(num_review)\n",
    "\n",
    "    num_page = (num_review // 10) + 1\n",
    "\n",
    "    return num_page\n",
    "\n",
    "\n",
    "# 텍스트 전처리\n",
    "def clean_text(text):\n",
    "    cleaned_text = re.sub('[a-zA-Z]' , '', text)\n",
    "    cleaned_text = re.sub('[\\{\\}\\[\\]\\/?.,;:|\\)*~`!^\\-_+<>@\\#$%&\\\\\\=\\(\\'\\\"]','', cleaned_text)\n",
    "    cleaned_text = re.sub('[\\n]', ' ', cleaned_text)\n",
    "    \n",
    "    return cleaned_text\n",
    "\n",
    "\n",
    "# 병원 페이지로 이동\n",
    "def move_to_hospital(hospital):\n",
    "    search_box = driver.find_element('xpath', '/html/body/div[2]/div/div[3]/form/div/div/span/input[2]')\n",
    "    search_box.send_keys(hospital)\n",
    "    driver.find_element('xpath', '/html/body/div[2]/div/div[3]/form/div/div/div/button/img').click()\n",
    "    time.sleep(2)\n",
    "\n",
    "    for i in range(10):\n",
    "        try:\n",
    "            element = driver.find_element('xpath', f'/html/body/div[3]/div/div/div[1]/div[3]/div[{i}]/a/div/div[2]/div[2]/div[1]/div[1]/div[1]')\n",
    "\n",
    "            if element.text[:3] == hospital[:3]:\n",
    "                element.click()\n",
    "                time.sleep(2)\n",
    "                break\n",
    "\n",
    "        except:\n",
    "            pass"
   ]
  },
  {
   "cell_type": "code",
   "execution_count": 189,
   "id": "bbfd4130",
   "metadata": {},
   "outputs": [],
   "source": [
    "# 모두닥 페이지 접속 후 로그인"
   ]
  },
  {
   "cell_type": "code",
   "execution_count": 205,
   "id": "a8c99021",
   "metadata": {},
   "outputs": [],
   "source": [
    "# 모두닥 페이지 url\n",
    "modoodoc_url = \"https://www.modoodoc.com/\"\n",
    "\n",
    "## 크롬 드라이버 실행\n",
    "#  wb.Chrome() = 컴퓨터가 크롬창을 씀\n",
    "driver = wb.Chrome()\n",
    "\n",
    "# 모두닥 페이지 이동\n",
    "driver.get(modoodoc_url)\n",
    "\n",
    "# 로그인\n",
    "id = 'random1234@random.com'\n",
    "password = 'random1234'\n",
    "login(id, password)"
   ]
  },
  {
   "cell_type": "code",
   "execution_count": 206,
   "id": "9ae389d6",
   "metadata": {},
   "outputs": [],
   "source": [
    "# 읽어올 엑셀 파일 지정\n",
    "filename = 'temp.xlsx'\n",
    "\n",
    "# 엑셀 파일 읽어 오기\n",
    "data = pd.read_excel(filename, engine='openpyxl',  )\n",
    "hospital_list = data.병원이름.to_list()"
   ]
  },
  {
   "cell_type": "code",
   "execution_count": null,
   "id": "40640cf4",
   "metadata": {
    "scrolled": true
   },
   "outputs": [],
   "source": [
    "# 크롤링 후 리스트 삽입\n",
    "\n",
    "data = []\n",
    "data_unit = []\n",
    "\n",
    "for index in range(len(hospital_list)):\n",
    "    # 병원 이름 검색 통해 접근(리스트 불러와서 넣는 것으로 변경 예정)\n",
    "    hospital = hospital_list[index]\n",
    "    move_to_hospital(hospital)\n",
    "    \n",
    "    current_url = driver.current_url\n",
    "    num_page = count_page()\n",
    "    \n",
    "    for page in range(1, num_page+1):\n",
    "        url = current_url + f\"?page={page}\"\n",
    "        driver.get(url)\n",
    "        time.sleep(3)\n",
    "\n",
    "        for j in range(2, 16):\n",
    "            try:\n",
    "                # 병원 이름 크롤링\n",
    "                hospital = driver.find_element('xpath', '/html/body/div[3]/div/div[2]/div[1]/h1').text\n",
    "\n",
    "                # 받은 치료 이름 크롤링\n",
    "                treatment = driver.find_element('xpath', f'/html/body/div[3]/div/div[4]/div[1]/div[4]/div[5]/div[{j}]/div/div[2]/div[2]').text\n",
    "\n",
    "\n",
    "                # 받은 치료 명시 안된 부분 처리\n",
    "                if treatment[0] != '받':\n",
    "                    continue\n",
    "                treatment = treatment[8:]\n",
    "\n",
    "                # 리뷰 내용 크롤링\n",
    "                review = driver.find_element('xpath', f'/html/body/div[3]/div/div[4]/div[1]/div[4]/div[5]/div[{j}]/div/div[2]/div[3]').text\n",
    "                # 리뷰 텍스트 전처리\n",
    "                review = clean_text(review)\n",
    "\n",
    "                # 크롤링 데이터 리스트 삽입\n",
    "                data_unit = [hospital, treatment, review]\n",
    "                data.append(data_unit)\n",
    "\n",
    "            except:\n",
    "                pass\n",
    "    \n",
    "    \n",
    "    \n",
    "    driver.get(modoodoc_url)\n",
    "    time.sleep(3)"
   ]
  },
  {
   "cell_type": "code",
   "execution_count": 198,
   "id": "f8615271",
   "metadata": {},
   "outputs": [
    {
     "data": {
      "text/html": [
       "<div>\n",
       "<style scoped>\n",
       "    .dataframe tbody tr th:only-of-type {\n",
       "        vertical-align: middle;\n",
       "    }\n",
       "\n",
       "    .dataframe tbody tr th {\n",
       "        vertical-align: top;\n",
       "    }\n",
       "\n",
       "    .dataframe thead th {\n",
       "        text-align: right;\n",
       "    }\n",
       "</style>\n",
       "<table border=\"1\" class=\"dataframe\">\n",
       "  <thead>\n",
       "    <tr style=\"text-align: right;\">\n",
       "      <th></th>\n",
       "      <th>병원 이름</th>\n",
       "      <th>받은 치료</th>\n",
       "      <th>리뷰</th>\n",
       "    </tr>\n",
       "  </thead>\n",
       "  <tbody>\n",
       "    <tr>\n",
       "      <th>0</th>\n",
       "      <td>프리미어성형외과의원</td>\n",
       "      <td>코성형수술</td>\n",
       "      <td>한줄평 거울 부시고싶은 코  수술 전에 환자가 원하는 모양에 대한 충분한 커뮤니케이...</td>\n",
       "    </tr>\n",
       "    <tr>\n",
       "      <th>1</th>\n",
       "      <td>프리미어성형외과의원</td>\n",
       "      <td>코성형수술</td>\n",
       "      <td>한줄평 거울 부시고싶은 코  수술 전에 환자가 원하는 모양에 대한 충분한 커뮤니케이...</td>\n",
       "    </tr>\n",
       "    <tr>\n",
       "      <th>2</th>\n",
       "      <td>프리미어성형외과의원</td>\n",
       "      <td>코성형수술</td>\n",
       "      <td>한줄평 거울 부시고싶은 코  수술 전에 환자가 원하는 모양에 대한 충분한 커뮤니케이...</td>\n",
       "    </tr>\n",
       "    <tr>\n",
       "      <th>3</th>\n",
       "      <td>프리미어성형외과의원</td>\n",
       "      <td>코성형수술</td>\n",
       "      <td>한줄평 거울 부시고싶은 코  수술 전에 환자가 원하는 모양에 대한 충분한 커뮤니케이...</td>\n",
       "    </tr>\n",
       "    <tr>\n",
       "      <th>4</th>\n",
       "      <td>프리미어성형외과의원</td>\n",
       "      <td>코성형수술</td>\n",
       "      <td>한줄평 거울 부시고싶은 코  수술 전에 환자가 원하는 모양에 대한 충분한 커뮤니케이...</td>\n",
       "    </tr>\n",
       "    <tr>\n",
       "      <th>...</th>\n",
       "      <td>...</td>\n",
       "      <td>...</td>\n",
       "      <td>...</td>\n",
       "    </tr>\n",
       "    <tr>\n",
       "      <th>135</th>\n",
       "      <td>오가나셀피부과의원</td>\n",
       "      <td>점/비립종/쥐젖 제거 (레이저)</td>\n",
       "      <td>점 크기가 커서 5회정도 제거가 필요했습니다 오가나 원장님 말고도 여성 부원장님 계...</td>\n",
       "    </tr>\n",
       "    <tr>\n",
       "      <th>136</th>\n",
       "      <td>오가나셀피부과의원</td>\n",
       "      <td>점/비립종/쥐젖 제거 (레이저)</td>\n",
       "      <td>점 크기가 커서 5회정도 제거가 필요했습니다 오가나 원장님 말고도 여성 부원장님 계...</td>\n",
       "    </tr>\n",
       "    <tr>\n",
       "      <th>137</th>\n",
       "      <td>오가나셀피부과의원</td>\n",
       "      <td>점/비립종/쥐젖 제거 (레이저)</td>\n",
       "      <td>점 크기가 커서 5회정도 제거가 필요했습니다 오가나 원장님 말고도 여성 부원장님 계...</td>\n",
       "    </tr>\n",
       "    <tr>\n",
       "      <th>138</th>\n",
       "      <td>오가나셀피부과의원</td>\n",
       "      <td>점/비립종/쥐젖 제거 (레이저)</td>\n",
       "      <td>점 크기가 커서 5회정도 제거가 필요했습니다 오가나 원장님 말고도 여성 부원장님 계...</td>\n",
       "    </tr>\n",
       "    <tr>\n",
       "      <th>139</th>\n",
       "      <td>오가나셀피부과의원</td>\n",
       "      <td>점/비립종/쥐젖 제거 (레이저)</td>\n",
       "      <td>점 크기가 커서 5회정도 제거가 필요했습니다 오가나 원장님 말고도 여성 부원장님 계...</td>\n",
       "    </tr>\n",
       "  </tbody>\n",
       "</table>\n",
       "<p>140 rows × 3 columns</p>\n",
       "</div>"
      ],
      "text/plain": [
       "          병원 이름              받은 치료  \\\n",
       "0    프리미어성형외과의원              코성형수술   \n",
       "1    프리미어성형외과의원              코성형수술   \n",
       "2    프리미어성형외과의원              코성형수술   \n",
       "3    프리미어성형외과의원              코성형수술   \n",
       "4    프리미어성형외과의원              코성형수술   \n",
       "..          ...                ...   \n",
       "135   오가나셀피부과의원  점/비립종/쥐젖 제거 (레이저)   \n",
       "136   오가나셀피부과의원  점/비립종/쥐젖 제거 (레이저)   \n",
       "137   오가나셀피부과의원  점/비립종/쥐젖 제거 (레이저)   \n",
       "138   오가나셀피부과의원  점/비립종/쥐젖 제거 (레이저)   \n",
       "139   오가나셀피부과의원  점/비립종/쥐젖 제거 (레이저)   \n",
       "\n",
       "                                                    리뷰  \n",
       "0    한줄평 거울 부시고싶은 코  수술 전에 환자가 원하는 모양에 대한 충분한 커뮤니케이...  \n",
       "1    한줄평 거울 부시고싶은 코  수술 전에 환자가 원하는 모양에 대한 충분한 커뮤니케이...  \n",
       "2    한줄평 거울 부시고싶은 코  수술 전에 환자가 원하는 모양에 대한 충분한 커뮤니케이...  \n",
       "3    한줄평 거울 부시고싶은 코  수술 전에 환자가 원하는 모양에 대한 충분한 커뮤니케이...  \n",
       "4    한줄평 거울 부시고싶은 코  수술 전에 환자가 원하는 모양에 대한 충분한 커뮤니케이...  \n",
       "..                                                 ...  \n",
       "135  점 크기가 커서 5회정도 제거가 필요했습니다 오가나 원장님 말고도 여성 부원장님 계...  \n",
       "136  점 크기가 커서 5회정도 제거가 필요했습니다 오가나 원장님 말고도 여성 부원장님 계...  \n",
       "137  점 크기가 커서 5회정도 제거가 필요했습니다 오가나 원장님 말고도 여성 부원장님 계...  \n",
       "138  점 크기가 커서 5회정도 제거가 필요했습니다 오가나 원장님 말고도 여성 부원장님 계...  \n",
       "139  점 크기가 커서 5회정도 제거가 필요했습니다 오가나 원장님 말고도 여성 부원장님 계...  \n",
       "\n",
       "[140 rows x 3 columns]"
      ]
     },
     "execution_count": 198,
     "metadata": {},
     "output_type": "execute_result"
    }
   ],
   "source": [
    "# 데이터 프레임 생성 및 데이터 입력\n",
    "df = pd.DataFrame(columns = ['병원 이름', '받은 치료', '리뷰'])\n",
    "\n",
    "num = len(data)\n",
    "\n",
    "for i in range(num):\n",
    "    df.loc[i]=data[i]\n",
    "   \n",
    "df"
   ]
  },
  {
   "cell_type": "code",
   "execution_count": 199,
   "id": "54b6a4ba",
   "metadata": {},
   "outputs": [],
   "source": [
    "# 엑셀 저장\n",
    "df.to_excel('크롤링결과.xlsx')"
   ]
  },
  {
   "cell_type": "code",
   "execution_count": 117,
   "id": "19884ddb",
   "metadata": {},
   "outputs": [
    {
     "name": "stdout",
     "output_type": "stream",
     "text": [
      "4.3.0\n"
     ]
    }
   ],
   "source": [
    "# 버전 체크\n",
    "\n",
    "print(webdriver.__version__)"
   ]
  },
  {
   "cell_type": "code",
   "execution_count": 118,
   "id": "9ec9b512",
   "metadata": {},
   "outputs": [],
   "source": [
    "# # 병원 이름 크롤링\n",
    "# hospital = driver.find_element('xpath', '/html/body/div[3]/div/div[2]/div[1]/h1').text\n",
    "\n",
    "# # 받은 치료 이름 크롤링\n",
    "# treatment = driver.find_element('xpath', '/html/body/div[3]/div/div[4]/div[1]/div[4]/div[5]/div[5]/div/div[2]/div[2]').text[8:]\n",
    "\n",
    "# # 리뷰 내용 크롤링\n",
    "# review = driver.find_element('xpath', '/html/body/div[3]/div/div[4]/div[1]/div[4]/div[5]/div[5]/div/div[2]/div[3]').text\n",
    "\n",
    "# # 크롤링 데이터 리스트 삽입\n",
    "# data_unit = [hospital, treatment, review]\n",
    "# data.append(data_unit)\n",
    "# data"
   ]
  },
  {
   "cell_type": "code",
   "execution_count": 119,
   "id": "c02ba4d9",
   "metadata": {},
   "outputs": [],
   "source": [
    "# parsing을 위한 함수를 생성"
   ]
  },
  {
   "cell_type": "code",
   "execution_count": 120,
   "id": "e8e06e0e",
   "metadata": {},
   "outputs": [],
   "source": [
    "# def remove_html_tags(data):\n",
    "#     p = re.compile(r'<.*?>')\n",
    "#     return p.sub(' ', str(data))\n",
    "\n",
    "# def get_crawl(URL):\n",
    "#     response = driver.get(URL)\n",
    "#     html = driver.page_source\n",
    "#     soup7 = BeautifulSoup(html, 'html.parser')\n",
    "#     ex_id_divs = soup7.find('div', {'id': 'view_content'})\n",
    "#     crawl_data = remove_html_tags(ex_id_divs)\n",
    "#     return crawl_data"
   ]
  },
  {
   "cell_type": "code",
   "execution_count": 121,
   "id": "b0442d2f",
   "metadata": {},
   "outputs": [],
   "source": [
    "# # 리뷰 페이지 이동\n",
    "# num_page = count_page()\n",
    "\n",
    "# current_url = driver.current_url\n",
    "\n",
    "# for i in range(2, num_page+1):\n",
    "#     url = current_url + f\"?page={i}\"\n",
    "#     driver.get(url)\n",
    "#     time.sleep(1)"
   ]
  },
  {
   "cell_type": "code",
   "execution_count": 201,
   "id": "ae172754",
   "metadata": {
    "scrolled": true
   },
   "outputs": [
    {
     "name": "stdout",
     "output_type": "stream",
     "text": [
      "디에이성형외과\n"
     ]
    }
   ],
   "source": [
    "# # 병원 이름 검색 통해 접근(리스트 불러와서 넣는 것으로 변경 예정)\n",
    "# hospital = input()\n",
    "# search_box = driver.find_element('xpath', '/html/body/div[2]/div/div[3]/form/div/div/span/input[2]')\n",
    "# search_box.send_keys(hospital)\n",
    "# driver.find_element('xpath', '/html/body/div[2]/div/div[3]/form/div/div/div/button/img').click()\n",
    "# time.sleep(1)\n",
    "\n",
    "# for i in range(10):\n",
    "#     try:\n",
    "#         element = driver.find_element('xpath', f'/html/body/div[3]/div/div/div[1]/div[3]/div[{i}]/a/div/div[2]/div[2]/div[1]/div[1]/div[1]')\n",
    "    \n",
    "#         if element.text[:2] == hospital[:2]:\n",
    "#             element.click()\n",
    "#             break\n",
    "            \n",
    "#     except:\n",
    "#         pass\n",
    "        \n",
    "# time.sleep(1)"
   ]
  },
  {
   "cell_type": "code",
   "execution_count": null,
   "id": "fb15b527",
   "metadata": {},
   "outputs": [],
   "source": []
  }
 ],
 "metadata": {
  "kernelspec": {
   "display_name": "Python 3 (ipykernel)",
   "language": "python",
   "name": "python3"
  },
  "language_info": {
   "codemirror_mode": {
    "name": "ipython",
    "version": 3
   },
   "file_extension": ".py",
   "mimetype": "text/x-python",
   "name": "python",
   "nbconvert_exporter": "python",
   "pygments_lexer": "ipython3",
   "version": "3.8.13"
  }
 },
 "nbformat": 4,
 "nbformat_minor": 5
}
