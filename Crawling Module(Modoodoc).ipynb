{
 "cells": [
  {
   "cell_type": "code",
   "execution_count": 1,
   "id": "0c9392c6",
   "metadata": {},
   "outputs": [
    {
     "name": "stdout",
     "output_type": "stream",
     "text": [
      "Defaulting to user installation because normal site-packages is not writeable\n",
      "Requirement already satisfied: selenium in c:\\users\\dr.song\\appdata\\roaming\\python\\python38\\site-packages (4.3.0)\n",
      "Requirement already satisfied: urllib3[secure,socks]~=1.26 in c:\\programdata\\anaconda3\\lib\\site-packages (from selenium) (1.26.9)\n",
      "Requirement already satisfied: trio~=0.17 in c:\\users\\dr.song\\appdata\\roaming\\python\\python38\\site-packages (from selenium) (0.21.0)\n",
      "Requirement already satisfied: trio-websocket~=0.9 in c:\\users\\dr.song\\appdata\\roaming\\python\\python38\\site-packages (from selenium) (0.9.2)\n",
      "Requirement already satisfied: outcome in c:\\users\\dr.song\\appdata\\roaming\\python\\python38\\site-packages (from trio~=0.17->selenium) (1.2.0)\n",
      "Requirement already satisfied: sniffio in c:\\programdata\\anaconda3\\lib\\site-packages (from trio~=0.17->selenium) (1.2.0)\n",
      "Requirement already satisfied: idna in c:\\programdata\\anaconda3\\lib\\site-packages (from trio~=0.17->selenium) (3.3)\n",
      "Requirement already satisfied: sortedcontainers in c:\\programdata\\anaconda3\\lib\\site-packages (from trio~=0.17->selenium) (2.4.0)\n",
      "Requirement already satisfied: cffi>=1.14 in c:\\programdata\\anaconda3\\lib\\site-packages (from trio~=0.17->selenium) (1.15.0)\n",
      "Requirement already satisfied: attrs>=19.2.0 in c:\\programdata\\anaconda3\\lib\\site-packages (from trio~=0.17->selenium) (21.4.0)\n",
      "Requirement already satisfied: async-generator>=1.9 in c:\\users\\dr.song\\appdata\\roaming\\python\\python38\\site-packages (from trio~=0.17->selenium) (1.10)\n",
      "Requirement already satisfied: pycparser in c:\\programdata\\anaconda3\\lib\\site-packages (from cffi>=1.14->trio~=0.17->selenium) (2.21)\n",
      "Requirement already satisfied: wsproto>=0.14 in c:\\users\\dr.song\\appdata\\roaming\\python\\python38\\site-packages (from trio-websocket~=0.9->selenium) (1.1.0)\n",
      "Requirement already satisfied: cryptography>=1.3.4 in c:\\programdata\\anaconda3\\lib\\site-packages (from urllib3[secure,socks]~=1.26->selenium) (3.4.8)\n",
      "Requirement already satisfied: certifi in c:\\programdata\\anaconda3\\lib\\site-packages (from urllib3[secure,socks]~=1.26->selenium) (2021.10.8)\n",
      "Requirement already satisfied: pyOpenSSL>=0.14 in c:\\programdata\\anaconda3\\lib\\site-packages (from urllib3[secure,socks]~=1.26->selenium) (21.0.0)\n",
      "Requirement already satisfied: PySocks!=1.5.7,<2.0,>=1.5.6 in c:\\programdata\\anaconda3\\lib\\site-packages (from urllib3[secure,socks]~=1.26->selenium) (1.7.1)\n",
      "Requirement already satisfied: six>=1.5.2 in c:\\programdata\\anaconda3\\lib\\site-packages (from pyOpenSSL>=0.14->urllib3[secure,socks]~=1.26->selenium) (1.16.0)\n",
      "Requirement already satisfied: h11<1,>=0.9.0 in c:\\users\\dr.song\\appdata\\roaming\\python\\python38\\site-packages (from wsproto>=0.14->trio-websocket~=0.9->selenium) (0.13.0)\n"
     ]
    }
   ],
   "source": [
    "!pip install selenium"
   ]
  },
  {
   "cell_type": "code",
   "execution_count": 2,
   "id": "e9638977",
   "metadata": {},
   "outputs": [
    {
     "data": {
      "text/plain": [
       "'3.8.13 (default, Mar 28 2022, 06:59:08) [MSC v.1916 64 bit (AMD64)]'"
      ]
     },
     "execution_count": 2,
     "metadata": {},
     "output_type": "execute_result"
    }
   ],
   "source": [
    "import sys\n",
    "\n",
    "sys.version"
   ]
  },
  {
   "cell_type": "code",
   "execution_count": 23,
   "id": "d00f74f8",
   "metadata": {},
   "outputs": [],
   "source": [
    "import pandas as pd    # csv\n",
    "from selenium import webdriver\n",
    "from selenium.webdriver.chrome.options import *\n",
    "from bs4 import *\n",
    "import time\n",
    "import re\n",
    "import base64    # encoder\n",
    "\n",
    "chrome_options = Options()\n",
    "chrome_options.add_argument('--headless')\n",
    "chrome_options.add_argument('--no-sandbox')\n",
    "chrome_options.add_argument('--disable-dev-shm-usage')"
   ]
  },
  {
   "cell_type": "code",
   "execution_count": 4,
   "id": "ccdc68c9",
   "metadata": {},
   "outputs": [],
   "source": [
    "# 웹페이지 접속"
   ]
  },
  {
   "cell_type": "code",
   "execution_count": 25,
   "id": "a8c99021",
   "metadata": {},
   "outputs": [],
   "source": [
    "# webdriver = 웹페이지를 제어하기 위한 모듈 >> 웹 그자체가 됨!\n",
    "from selenium import webdriver as wb\n",
    "# Keys = 컴퓨터의 키보드와 같은 역할 모듈, 컴퓨터가 쓸 키보드 \n",
    "from selenium.webdriver.common.keys import Keys\n",
    "# time = 컴퓨터한테 쉬는 시간을 부여, 컴퓨터한테 클릭 텀 시간주기\n",
    "import time\n",
    "\n",
    "## 크롬 드라이버 실행\n",
    "#  wb.Chrome() = 컴퓨터가 크롬창을 씀\n",
    "driver = wb.Chrome()\n",
    "# 컴퓨터에서 어디를 들어갈지 url주소를 알려줌\n",
    "target_url = \"https://www.modoodoc.com/\"\n",
    "driver.get(target_url)\n",
    "\n",
    "# 로그인\n",
    "id = 'random1234@random.com'\n",
    "password = 'random1234'\n",
    "\n",
    "driver.find_element('xpath', '/html/body/nav/div/div/ul[2]/ul/li[3]/a').click() #id 속성으로 접근\n",
    "\n",
    "user_email = driver.find_element('xpath', '/html/body/div[12]/div/div/div[3]/form/input[1]')\n",
    "user_email.send_keys(id)\n",
    "user_password = driver.find_element('xpath', '/html/body/div[12]/div/div/div[3]/form/input[2]')\n",
    "user_password.send_keys(password)\n",
    "\n",
    "# 로그인 버튼 클릭\n",
    "driver.find_element('xpath', '/html/body/div[12]/div/div/div[3]/form/button').click()\n",
    "time.sleep(3)\n",
    "\n",
    "# 피부과 탭으로 이동\n",
    "driver.find_element(\"xpath\", \"/html/body/div[2]/div/table/tbody/tr[1]/td[3]/a\").click()    #링크가 달려 있는 텍스트로 접근\n",
    "time.sleep(3)\n",
    "\n"
   ]
  },
  {
   "cell_type": "code",
   "execution_count": 26,
   "id": "2d84ec05",
   "metadata": {},
   "outputs": [],
   "source": [
    "# 첫번째 병원 탭으로 이동\n",
    "driver.find_element('xpath', '/html/body/div[3]/div/div/div[1]/div[3]/div[5]/a/div/div[2]').click()"
   ]
  },
  {
   "cell_type": "code",
   "execution_count": 43,
   "id": "40640cf4",
   "metadata": {
    "scrolled": false
   },
   "outputs": [
    {
     "data": {
      "text/plain": [
       "[['뮤즈의원 강남점',\n",
       "  '필러',\n",
       "  '입꼬리 필러 맞으러 갔어요 전에 턱보톡스 맞았던 곳이라 그냥 가봤는데 필러놓아주는 선생님도 친절하셨습니다. 아직 멍들고 부어있지만 뚱한 인상이었던 입꼬리가 달라져서 마음에 들어요.'],\n",
       " ['뮤즈의원 강남점',\n",
       "  '제모',\n",
       "  '이벤트 기간에 인중, 겨드랑이, 다리 전체 제모를 받았습니다. 직원들이랑 의사 선생님 모두 친절하세요. 손님들이 많아서 기다리는 시간이 좀 있었어요. 제모 효과는 괜찮은 편입니다.'],\n",
       " ['뮤즈의원 강남점',\n",
       "  '보톡스',\n",
       "  '처음 가봤는데\\n선샘님과 기타 간호사님들 코디분들 다 친절하시고\\n가격도좋고\\n효과도 있는것같아서 재방문의사 있어요\\n\\n다만 2층에서 데스크있는분들중 바쁜건알겠지만\\n본인기분나쁜걸 표현하시는건지 그렇게 말하시면 안되는거 아닌가 싶어요~\\n주의 부탁드리고\\n병원 시술효과는 좋은편이라 자주 방문할것 같습니다'],\n",
       " ['뮤즈의원 강남점',\n",
       "  '시너지레이저',\n",
       "  '한줄평: 사람 많아요\\n\\nMpx 시너지 레이저 3회권 끊어서 받았는데 어떤 의사한테 받느냐에 따라 시간도 효과도 달랐어요 일단 바람이 나오는데 코부근 할때 숨참고 하는게 힘들어요\\n\\n병원리뷰:\\n사람 많아서 도떼기 시장입니다 2시간 기다린적도 있네요 예약해도 30분 기다린적도 있고. 직원들은 데스크 대체적으로 친절 시설 좋지만 이용객이 많다보니 세면대 지저분'],\n",
       " ['뮤즈의원 강남점',\n",
       "  '보톡스 , 지방분해주사',\n",
       "  '종아리가 고민이어서 종아리보톡스와 주사시술을 같이 한꺼번에 받을 수 있는 패키지 관리를 예약해서 갔는데 친절하게 주사 놔주셔서 괜찮았어요 크게 아프지는 않았고 따끔따끔한 정도 였어요'],\n",
       " ['뮤즈의원 강남점',\n",
       "  '보톡스',\n",
       "  '친구소개로 턱과 주름 보톡스 맞으려고 다녀왔어요. 너무 저렴해서 불친절한건 아닌지 걱정했는데 너무 친절하고 상담도 다른거 권하는거 없이 제가 원하는것만 잘 알려주셨어요. 대기가 좀있었는데 계속 오래기다리게해서죄송하다고 하고 보톡스 맞고도 많이 아프셨죠? 하는 말한마디 챙김에 꾸준히 와야겠다 생각이 들었습니다'],\n",
       " ['뮤즈의원 강남점',\n",
       "  '인모드리프팅',\n",
       "  '친구랑 같이 얼굴 라인 정리 상담받고\\n슈링크 보다는 인모드가 더 괜찮을 거 같다고 해서 시술 받았습니다.\\n1,2회차까지는 잘 느끼지 못했으나 확실히 3회까지 모두 하고 나서\\n완전 만족 100프로 만족합니다.\\n턱살이 있었지만 정리되었고 라인도 갸름해진느낌입니다 ㅎ'],\n",
       " ['뮤즈의원 강남점',\n",
       "  '인모드리프팅',\n",
       "  '바디 인모드 받으려고 여러곳 가격비교하다 저렴해서 방문했어요. 팔 다리 배 브라라인 바디인모드 했는데 지방이 두꺼운부위는 그만큼 더 많이 받아야하는거같아서 비용부담때문에 못했네요. 브이라인 인모드도 받았는데 턱라인이 조금 정리되는느낌이네요. 비용은 홈피에 다 고시되어있고 이벤트가 자주있는듯요.'],\n",
       " ['뮤즈의원 강남점',\n",
       "  '인모드리프팅',\n",
       "  '인모드 시술은 처음이라\\n물어볼게 많아서 상담 했는데\\n먼가 모르게 잘 모르 시는 듯 한 느낌…?\\n여기서부터 먼가 신뢰성이 안감.. ㅠㅠㅠㅠㅠ\\n레이저 실은 진짜 충격…\\n사람들 다닥다닥 다 붙어있거\\n공장 같은 느낌ㅠㅠㅠㅠ컹스..;']]"
      ]
     },
     "execution_count": 43,
     "metadata": {},
     "output_type": "execute_result"
    }
   ],
   "source": [
    "# 크롤링 후 리스트 삽입\n",
    "\n",
    "data = []\n",
    "data_unit = []\n",
    "\n",
    "for i in range(2, 16):\n",
    "    try:\n",
    "        # 병원 이름 크롤링\n",
    "        hospital = driver.find_element('xpath', '/html/body/div[3]/div/div[2]/div[1]/h1').text\n",
    "\n",
    "        # 받은 치료 이름 크롤링\n",
    "        treatment = driver.find_element('xpath', f'/html/body/div[3]/div/div[4]/div[1]/div[4]/div[5]/div[{i}]/div/div[2]/div[2]').text\n",
    "        \n",
    "        # 받은 치료 명시 안된 부분 처리\n",
    "        if treatment[0] != '받':\n",
    "            continue\n",
    "        treatment = treatment[8:]\n",
    "\n",
    "        # 리뷰 내용 크롤링\n",
    "        review = driver.find_element('xpath', f'/html/body/div[3]/div/div[4]/div[1]/div[4]/div[5]/div[{i}]/div/div[2]/div[3]').text\n",
    "\n",
    "        # 크롤링 데이터 리스트 삽입\n",
    "        data_unit = [hospital, treatment, review]\n",
    "        data.append(data_unit)\n",
    "\n",
    "    except:\n",
    "        pass\n",
    "\n",
    "data"
   ]
  },
  {
   "cell_type": "code",
   "execution_count": 56,
   "id": "f48b50b5",
   "metadata": {},
   "outputs": [],
   "source": [
    "df = pd.DataFrame(columns = ['병원 이름', '받은 치료', '리뷰'])\n",
    "\n",
    "num = len(data)\n",
    "\n",
    "for i in range(num):\n",
    "    df.loc[i]=data[i]\n",
    "   \n",
    "df\n",
    "# 엑셀 저장\n",
    "df.to_excel('1234.xlsx')"
   ]
  },
  {
   "cell_type": "code",
   "execution_count": 17,
   "id": "eac8da9d",
   "metadata": {},
   "outputs": [
    {
     "name": "stdout",
     "output_type": "stream",
     "text": [
      "39\n"
     ]
    }
   ],
   "source": [
    "# 병원의 리뷰 페이지 수 계산\n",
    "def count_page():\n",
    "\n",
    "    num_review = driver.find_element('xpath', '/html/body/div[3]/div/div[2]/div[2]/div/div[1]/div[1]').text[7:]\n",
    "    num_review = int(num_review)\n",
    "\n",
    "    num_page = (num_review // 10) + 1\n",
    "\n",
    "    return num_page\n",
    "\n",
    "print(num_page)"
   ]
  },
  {
   "cell_type": "code",
   "execution_count": 42,
   "id": "b0442d2f",
   "metadata": {},
   "outputs": [],
   "source": [
    "# 리뷰 페이지 이동\n",
    "num_page = count_page()\n",
    "\n",
    "current_url = driver.current_url\n",
    "\n",
    "for i in range(2, num_page+1):\n",
    "    url = current_url + f\"?page={i}\"\n",
    "    driver.get(url)\n",
    "    time.sleep(1)"
   ]
  },
  {
   "cell_type": "code",
   "execution_count": 10,
   "id": "30dc3f64",
   "metadata": {},
   "outputs": [
    {
     "data": {
      "text/plain": [
       "[['뮤즈의원 강남점',\n",
       "  '필러',\n",
       "  '입꼬리 필러 맞으러 갔어요 전에 턱보톡스 맞았던 곳이라 그냥 가봤는데 필러놓아주는 선생님도 친절하셨습니다. 아직 멍들고 부어있지만 뚱한 인상이었던 입꼬리가 달라져서 마음에 들어요.']]"
      ]
     },
     "execution_count": 10,
     "metadata": {},
     "output_type": "execute_result"
    }
   ],
   "source": [
    "data = []\n",
    "data_unit = []\n",
    "\n",
    "# 병원 이름 크롤링\n",
    "hospital = driver.find_element('xpath', '/html/body/div[3]/div/div[2]/div[1]/h1').text\n",
    "\n",
    "# 받은 치료 이름 크롤링\n",
    "treatment = driver.find_element('xpath', '/html/body/div[3]/div/div[4]/div[1]/div[4]/div[5]/div[2]/div/div[2]/div[2]').text[8:]\n",
    "\n",
    "# 리뷰 내용 크롤링\n",
    "review = driver.find_element('xpath', '/html/body/div[3]/div/div[4]/div[1]/div[4]/div[5]/div[2]/div/div[2]/div[3]').text\n",
    "\n",
    "# 크롤링 데이터 리스트 삽입\n",
    "data_unit = [hospital, treatment, review]\n",
    "data.append(data_unit)\n",
    "data"
   ]
  },
  {
   "cell_type": "code",
   "execution_count": 11,
   "id": "f530833b",
   "metadata": {},
   "outputs": [
    {
     "data": {
      "text/plain": [
       "[['뮤즈의원 강남점',\n",
       "  '필러',\n",
       "  '입꼬리 필러 맞으러 갔어요 전에 턱보톡스 맞았던 곳이라 그냥 가봤는데 필러놓아주는 선생님도 친절하셨습니다. 아직 멍들고 부어있지만 뚱한 인상이었던 입꼬리가 달라져서 마음에 들어요.'],\n",
       " ['뮤즈의원 강남점',\n",
       "  '제모',\n",
       "  '이벤트 기간에 인중, 겨드랑이, 다리 전체 제모를 받았습니다. 직원들이랑 의사 선생님 모두 친절하세요. 손님들이 많아서 기다리는 시간이 좀 있었어요. 제모 효과는 괜찮은 편입니다.']]"
      ]
     },
     "execution_count": 11,
     "metadata": {},
     "output_type": "execute_result"
    }
   ],
   "source": [
    "# 병원 이름 크롤링\n",
    "hospital = driver.find_element('xpath', '/html/body/div[3]/div/div[2]/div[1]/h1').text\n",
    "\n",
    "# 받은 치료 이름 크롤링\n",
    "treatment = driver.find_element('xpath', '/html/body/div[3]/div/div[4]/div[1]/div[4]/div[5]/div[3]/div/div[2]/div[2]').text[8:]\n",
    "\n",
    "# 리뷰 내용 크롤링\n",
    "review = driver.find_element('xpath', '/html/body/div[3]/div/div[4]/div[1]/div[4]/div[5]/div[3]/div/div[2]/div[3]').text\n",
    "\n",
    "# 크롤링 데이터 리스트 삽입\n",
    "data_unit = [hospital, treatment, review]\n",
    "data.append(data_unit)\n",
    "data"
   ]
  },
  {
   "cell_type": "code",
   "execution_count": 12,
   "id": "9ec9b512",
   "metadata": {},
   "outputs": [
    {
     "data": {
      "text/plain": [
       "[['뮤즈의원 강남점',\n",
       "  '필러',\n",
       "  '입꼬리 필러 맞으러 갔어요 전에 턱보톡스 맞았던 곳이라 그냥 가봤는데 필러놓아주는 선생님도 친절하셨습니다. 아직 멍들고 부어있지만 뚱한 인상이었던 입꼬리가 달라져서 마음에 들어요.'],\n",
       " ['뮤즈의원 강남점',\n",
       "  '제모',\n",
       "  '이벤트 기간에 인중, 겨드랑이, 다리 전체 제모를 받았습니다. 직원들이랑 의사 선생님 모두 친절하세요. 손님들이 많아서 기다리는 시간이 좀 있었어요. 제모 효과는 괜찮은 편입니다.'],\n",
       " ['뮤즈의원 강남점',\n",
       "  '보톡스',\n",
       "  '처음 가봤는데\\n선샘님과 기타 간호사님들 코디분들 다 친절하시고\\n가격도좋고\\n효과도 있는것같아서 재방문의사 있어요\\n\\n다만 2층에서 데스크있는분들중 바쁜건알겠지만\\n본인기분나쁜걸 표현하시는건지 그렇게 말하시면 안되는거 아닌가 싶어요~\\n주의 부탁드리고\\n병원 시술효과는 좋은편이라 자주 방문할것 같습니다']]"
      ]
     },
     "execution_count": 12,
     "metadata": {},
     "output_type": "execute_result"
    }
   ],
   "source": [
    "# 병원 이름 크롤링\n",
    "hospital = driver.find_element('xpath', '/html/body/div[3]/div/div[2]/div[1]/h1').text\n",
    "\n",
    "# 받은 치료 이름 크롤링\n",
    "treatment = driver.find_element('xpath', '/html/body/div[3]/div/div[4]/div[1]/div[4]/div[5]/div[5]/div/div[2]/div[2]').text[8:]\n",
    "\n",
    "# 리뷰 내용 크롤링\n",
    "review = driver.find_element('xpath', '/html/body/div[3]/div/div[4]/div[1]/div[4]/div[5]/div[5]/div/div[2]/div[3]').text\n",
    "\n",
    "# 크롤링 데이터 리스트 삽입\n",
    "data_unit = [hospital, treatment, review]\n",
    "data.append(data_unit)\n",
    "data"
   ]
  },
  {
   "cell_type": "code",
   "execution_count": 13,
   "id": "c02ba4d9",
   "metadata": {},
   "outputs": [],
   "source": [
    "# parsing을 위한 함수를 생성"
   ]
  },
  {
   "cell_type": "code",
   "execution_count": 14,
   "id": "e8e06e0e",
   "metadata": {},
   "outputs": [],
   "source": [
    "# def remove_html_tags(data):\n",
    "#     p = re.compile(r'<.*?>')\n",
    "#     return p.sub(' ', str(data))\n",
    "\n",
    "# def get_crawl(URL):\n",
    "#     response = driver.get(URL)\n",
    "#     html = driver.page_source\n",
    "#     soup7 = BeautifulSoup(html, 'html.parser')\n",
    "#     ex_id_divs = soup7.find('div', {'id': 'view_content'})\n",
    "#     crawl_data = remove_html_tags(ex_id_divs)\n",
    "#     return crawl_data"
   ]
  },
  {
   "cell_type": "code",
   "execution_count": 15,
   "id": "19884ddb",
   "metadata": {},
   "outputs": [
    {
     "name": "stdout",
     "output_type": "stream",
     "text": [
      "4.3.0\n"
     ]
    }
   ],
   "source": [
    "# 버전 체크\n",
    "\n",
    "print(webdriver.__version__)"
   ]
  }
 ],
 "metadata": {
  "kernelspec": {
   "display_name": "Python 3 (ipykernel)",
   "language": "python",
   "name": "python3"
  },
  "language_info": {
   "codemirror_mode": {
    "name": "ipython",
    "version": 3
   },
   "file_extension": ".py",
   "mimetype": "text/x-python",
   "name": "python",
   "nbconvert_exporter": "python",
   "pygments_lexer": "ipython3",
   "version": "3.8.13"
  }
 },
 "nbformat": 4,
 "nbformat_minor": 5
}
