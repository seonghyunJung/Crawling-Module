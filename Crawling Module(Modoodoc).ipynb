{
 "cells": [
  {
   "cell_type": "code",
   "execution_count": 122,
   "id": "e9638977",
   "metadata": {},
   "outputs": [
    {
     "data": {
      "text/plain": [
       "'3.8.13 (default, Mar 28 2022, 06:59:08) [MSC v.1916 64 bit (AMD64)]'"
      ]
     },
     "execution_count": 122,
     "metadata": {},
     "output_type": "execute_result"
    }
   ],
   "source": [
    "import sys\n",
    "\n",
    "sys.version"
   ]
  },
  {
   "cell_type": "code",
   "execution_count": 123,
   "id": "0c9392c6",
   "metadata": {},
   "outputs": [
    {
     "name": "stdout",
     "output_type": "stream",
     "text": [
      "Defaulting to user installation because normal site-packages is not writeable\n",
      "Requirement already satisfied: selenium in c:\\users\\dr.song\\appdata\\roaming\\python\\python38\\site-packages (4.3.0)\n",
      "Requirement already satisfied: trio-websocket~=0.9 in c:\\users\\dr.song\\appdata\\roaming\\python\\python38\\site-packages (from selenium) (0.9.2)\n",
      "Requirement already satisfied: trio~=0.17 in c:\\users\\dr.song\\appdata\\roaming\\python\\python38\\site-packages (from selenium) (0.21.0)\n",
      "Requirement already satisfied: urllib3[secure,socks]~=1.26 in c:\\programdata\\anaconda3\\lib\\site-packages (from selenium) (1.26.9)\n",
      "Requirement already satisfied: idna in c:\\programdata\\anaconda3\\lib\\site-packages (from trio~=0.17->selenium) (3.3)\n",
      "Requirement already satisfied: outcome in c:\\users\\dr.song\\appdata\\roaming\\python\\python38\\site-packages (from trio~=0.17->selenium) (1.2.0)\n",
      "Requirement already satisfied: cffi>=1.14 in c:\\programdata\\anaconda3\\lib\\site-packages (from trio~=0.17->selenium) (1.15.0)\n",
      "Requirement already satisfied: attrs>=19.2.0 in c:\\programdata\\anaconda3\\lib\\site-packages (from trio~=0.17->selenium) (21.4.0)\n",
      "Requirement already satisfied: sniffio in c:\\programdata\\anaconda3\\lib\\site-packages (from trio~=0.17->selenium) (1.2.0)\n",
      "Requirement already satisfied: async-generator>=1.9 in c:\\users\\dr.song\\appdata\\roaming\\python\\python38\\site-packages (from trio~=0.17->selenium) (1.10)\n",
      "Requirement already satisfied: sortedcontainers in c:\\programdata\\anaconda3\\lib\\site-packages (from trio~=0.17->selenium) (2.4.0)\n",
      "Requirement already satisfied: pycparser in c:\\programdata\\anaconda3\\lib\\site-packages (from cffi>=1.14->trio~=0.17->selenium) (2.21)\n",
      "Requirement already satisfied: wsproto>=0.14 in c:\\users\\dr.song\\appdata\\roaming\\python\\python38\\site-packages (from trio-websocket~=0.9->selenium) (1.1.0)\n",
      "Requirement already satisfied: PySocks!=1.5.7,<2.0,>=1.5.6 in c:\\programdata\\anaconda3\\lib\\site-packages (from urllib3[secure,socks]~=1.26->selenium) (1.7.1)\n",
      "Requirement already satisfied: certifi in c:\\programdata\\anaconda3\\lib\\site-packages (from urllib3[secure,socks]~=1.26->selenium) (2021.10.8)\n",
      "Requirement already satisfied: cryptography>=1.3.4 in c:\\programdata\\anaconda3\\lib\\site-packages (from urllib3[secure,socks]~=1.26->selenium) (3.4.8)\n",
      "Requirement already satisfied: pyOpenSSL>=0.14 in c:\\programdata\\anaconda3\\lib\\site-packages (from urllib3[secure,socks]~=1.26->selenium) (21.0.0)\n",
      "Requirement already satisfied: six>=1.5.2 in c:\\programdata\\anaconda3\\lib\\site-packages (from pyOpenSSL>=0.14->urllib3[secure,socks]~=1.26->selenium) (1.16.0)\n",
      "Requirement already satisfied: h11<1,>=0.9.0 in c:\\users\\dr.song\\appdata\\roaming\\python\\python38\\site-packages (from wsproto>=0.14->trio-websocket~=0.9->selenium) (0.13.0)\n"
     ]
    }
   ],
   "source": [
    "!pip install selenium"
   ]
  },
  {
   "cell_type": "code",
   "execution_count": 164,
   "id": "19884ddb",
   "metadata": {},
   "outputs": [
    {
     "name": "stdout",
     "output_type": "stream",
     "text": [
      "4.3.0\n"
     ]
    }
   ],
   "source": [
    "print(webdriver.__version__)\n"
   ]
  },
  {
   "cell_type": "code",
   "execution_count": 160,
   "id": "d00f74f8",
   "metadata": {},
   "outputs": [],
   "source": [
    "import pandas as pd    # csv\n",
    "from selenium import webdriver\n",
    "from selenium.webdriver.chrome.options import *\n",
    "from bs4 import *\n",
    "import time\n",
    "import re\n",
    "import base64    # encoder\n",
    "\n",
    "chrome_options = Options()\n",
    "chrome_options.add_argument('--headless')\n",
    "chrome_options.add_argument('--no-sandbox')\n",
    "chrome_options.add_argument('--disable-dev-shm-usage')"
   ]
  },
  {
   "cell_type": "code",
   "execution_count": 125,
   "id": "ccdc68c9",
   "metadata": {},
   "outputs": [],
   "source": [
    "# 웹페이지 접속"
   ]
  },
  {
   "cell_type": "code",
   "execution_count": 217,
   "id": "a8c99021",
   "metadata": {},
   "outputs": [],
   "source": [
    "# webdriver = 웹페이지를 제어하기 위한 모듈 >> 웹 그자체가 됨!\n",
    "from selenium import webdriver as wb\n",
    "# Keys = 컴퓨터의 키보드와 같은 역할 모듈, 컴퓨터가 쓸 키보드 \n",
    "from selenium.webdriver.common.keys import Keys\n",
    "# time = 컴퓨터한테 쉬는 시간을 부여, 컴퓨터한테 클릭 텀 시간주기\n",
    "import time\n",
    "\n",
    "## 크롬 드라이버 실행\n",
    "#  wb.Chrome() = 컴퓨터가 크롬창을 씀\n",
    "driver = wb.Chrome()\n",
    "# 컴퓨터에서 어디를 들어갈지 url주소를 알려줌\n",
    "url = \"https://www.modoodoc.com/\"\n",
    "driver.get(url)\n",
    "\n",
    "# 로그인\n",
    "id = 'random1234@random.com'\n",
    "password = 'random1234'\n",
    "\n",
    "driver.find_element('xpath', '/html/body/nav/div/div/ul[2]/ul/li[3]/a').click() #id 속성으로 접근\n",
    "\n",
    "user_email = driver.find_element('xpath', '/html/body/div[12]/div/div/div[3]/form/input[1]')\n",
    "user_email.send_keys(id)\n",
    "user_password = driver.find_element('xpath', '/html/body/div[12]/div/div/div[3]/form/input[2]')\n",
    "user_password.send_keys(password)\n",
    "\n",
    "# 로그인 버튼 클릭\n",
    "driver.find_element('xpath', '/html/body/div[12]/div/div/div[3]/form/button').click()\n",
    "time.sleep(3)\n",
    "\n",
    "# 피부과 탭으로 이동\n",
    "driver.find_element(\"xpath\", \"/html/body/div[2]/div/table/tbody/tr[1]/td[3]/a\").click()    #링크가 달려 있는 텍스트로 접근\n",
    "time.sleep(1)\n",
    "\n"
   ]
  },
  {
   "cell_type": "code",
   "execution_count": 218,
   "id": "2d84ec05",
   "metadata": {},
   "outputs": [],
   "source": [
    "# 첫번째 병원 탭으로 이동\n",
    "driver.find_element('xpath', '/html/body/div[3]/div/div/div[1]/div[3]/div[5]/a/div/div[2]').click()"
   ]
  },
  {
   "cell_type": "code",
   "execution_count": 216,
   "id": "40640cf4",
   "metadata": {
    "scrolled": true
   },
   "outputs": [
    {
     "data": {
      "text/plain": [
       "[['뮤즈의원 강남점',\n",
       "  '보톡스',\n",
       "  '집에서 가까워서 미간주름 보톡스 맞으러 갔는데 효과는거의 없었어요,,맞기 전이랑 후랑 차이를 못느꼈어요'],\n",
       " ['뮤즈의원 강남점',\n",
       "  '제모',\n",
       "  '레이저 제모 5회권을 끊어놨는데 예전 폰에 결제 문자가 와서 인증이 안 되네요ㅠ 직원분들도 친절하신 편이고 의사쌤이랑 저랑 이름이 같아서 웃으면서 치료받았던 기억이 납니당:) 현재 3회차까지 시술을 받아서 아직 완전히 모근이 없어지진 않았지만 차차 없어질거라서 기대하고 계속 다닙니다:)\\n×종아리 보톡스도 300유닛 맞았는데 이건 효과가 없는 게 아닌가 하는 생각이 듭니다;; 18만인가 19만 얼마였던 거 같은데ㅠ 그건 아빠카드로 긁어서 ㅠㅠㅠ,,;;; 1달이 됐는데도ㅠ']]"
      ]
     },
     "execution_count": 216,
     "metadata": {},
     "output_type": "execute_result"
    }
   ],
   "source": [
    "# 크롤링 후 리스트 삽입\n",
    "\n",
    "data = []\n",
    "data_unit = []\n",
    "\n",
    "for i in range(2, 16):\n",
    "    try:\n",
    "        # 병원 이름 크롤링\n",
    "        hospital = driver.find_element('xpath', '/html/body/div[3]/div/div[2]/div[1]/h1').text\n",
    "\n",
    "        # 받은 치료 이름 크롤링\n",
    "        treatment = driver.find_element('xpath', f'/html/body/div[3]/div/div[4]/div[1]/div[4]/div[5]/div[{i}]/div/div[2]/div[2]').text\n",
    "        \n",
    "        # 받은 치료 명시 안된 부분 처리\n",
    "        if treatment[0] != '받':\n",
    "            continue\n",
    "        treatment = treatment[8:]\n",
    "\n",
    "        # 리뷰 내용 크롤링\n",
    "        review = driver.find_element('xpath', f'/html/body/div[3]/div/div[4]/div[1]/div[4]/div[5]/div[{i}]/div/div[2]/div[3]').text\n",
    "\n",
    "        # 크롤링 데이터 리스트 삽입\n",
    "        data_unit = [hospital, treatment, review]\n",
    "        data.append(data_unit)\n",
    "\n",
    "    except:\n",
    "        pass\n",
    "\n",
    "data"
   ]
  },
  {
   "cell_type": "code",
   "execution_count": 258,
   "id": "eac8da9d",
   "metadata": {},
   "outputs": [
    {
     "name": "stdout",
     "output_type": "stream",
     "text": [
      "383\n",
      "3\n"
     ]
    }
   ],
   "source": [
    "# 페이지 이동\n",
    "\n",
    "count_review = driver.find_element('xpath', '/html/body/div[3]/div/div[2]/div[2]/div/div[1]/div[1]').text[7:]\n",
    "\n",
    "count_page = 0"
   ]
  },
  {
   "cell_type": "code",
   "execution_count": null,
   "id": "b0442d2f",
   "metadata": {},
   "outputs": [],
   "source": []
  },
  {
   "cell_type": "code",
   "execution_count": 219,
   "id": "30dc3f64",
   "metadata": {},
   "outputs": [
    {
     "data": {
      "text/plain": [
       "[['뮤즈의원 강남점',\n",
       "  '필러',\n",
       "  '입꼬리 필러 맞으러 갔어요 전에 턱보톡스 맞았던 곳이라 그냥 가봤는데 필러놓아주는 선생님도 친절하셨습니다. 아직 멍들고 부어있지만 뚱한 인상이었던 입꼬리가 달라져서 마음에 들어요.']]"
      ]
     },
     "execution_count": 219,
     "metadata": {},
     "output_type": "execute_result"
    }
   ],
   "source": [
    "data = []\n",
    "data_unit = []\n",
    "\n",
    "# 병원 이름 크롤링\n",
    "hospital = driver.find_element('xpath', '/html/body/div[3]/div/div[2]/div[1]/h1').text\n",
    "\n",
    "# 받은 치료 이름 크롤링\n",
    "treatment = driver.find_element('xpath', '/html/body/div[3]/div/div[4]/div[1]/div[4]/div[5]/div[2]/div/div[2]/div[2]').text[8:]\n",
    "\n",
    "# 리뷰 내용 크롤링\n",
    "review = driver.find_element('xpath', '/html/body/div[3]/div/div[4]/div[1]/div[4]/div[5]/div[2]/div/div[2]/div[3]').text\n",
    "\n",
    "# 크롤링 데이터 리스트 삽입\n",
    "data_unit = [hospital, treatment, review]\n",
    "data.append(data_unit)\n",
    "data"
   ]
  },
  {
   "cell_type": "code",
   "execution_count": 179,
   "id": "f530833b",
   "metadata": {},
   "outputs": [
    {
     "data": {
      "text/plain": [
       "[['뮤즈의원 강남점',\n",
       "  '필러',\n",
       "  '입꼬리 필러 맞으러 갔어요 전에 턱보톡스 맞았던 곳이라 그냥 가봤는데 필러놓아주는 선생님도 친절하셨습니다. 아직 멍들고 부어있지만 뚱한 인상이었던 입꼬리가 달라져서 마음에 들어요.'],\n",
       " ['뮤즈의원 강남점',\n",
       "  '제모',\n",
       "  '이벤트 기간에 인중, 겨드랑이, 다리 전체 제모를 받았습니다. 직원들이랑 의사 선생님 모두 친절하세요. 손님들이 많아서 기다리는 시간이 좀 있었어요. 제모 효과는 괜찮은 편입니다.']]"
      ]
     },
     "execution_count": 179,
     "metadata": {},
     "output_type": "execute_result"
    }
   ],
   "source": [
    "# 병원 이름 크롤링\n",
    "hospital = driver.find_element('xpath', '/html/body/div[3]/div/div[2]/div[1]/h1').text\n",
    "\n",
    "# 받은 치료 이름 크롤링\n",
    "treatment = driver.find_element('xpath', '/html/body/div[3]/div/div[4]/div[1]/div[4]/div[5]/div[3]/div/div[2]/div[2]').text[8:]\n",
    "\n",
    "# 리뷰 내용 크롤링\n",
    "review = driver.find_element('xpath', '/html/body/div[3]/div/div[4]/div[1]/div[4]/div[5]/div[3]/div/div[2]/div[3]').text\n",
    "\n",
    "# 크롤링 데이터 리스트 삽입\n",
    "data_unit = [hospital, treatment, review]\n",
    "data.append(data_unit)\n",
    "data"
   ]
  },
  {
   "cell_type": "code",
   "execution_count": 194,
   "id": "9ec9b512",
   "metadata": {},
   "outputs": [
    {
     "data": {
      "text/plain": [
       "[['뮤즈의원 강남점',\n",
       "  '필러',\n",
       "  '입꼬리 필러 맞으러 갔어요 전에 턱보톡스 맞았던 곳이라 그냥 가봤는데 필러놓아주는 선생님도 친절하셨습니다. 아직 멍들고 부어있지만 뚱한 인상이었던 입꼬리가 달라져서 마음에 들어요.'],\n",
       " ['뮤즈의원 강남점',\n",
       "  '제모',\n",
       "  '이벤트 기간에 인중, 겨드랑이, 다리 전체 제모를 받았습니다. 직원들이랑 의사 선생님 모두 친절하세요. 손님들이 많아서 기다리는 시간이 좀 있었어요. 제모 효과는 괜찮은 편입니다.'],\n",
       " ['뮤즈의원 강남점',\n",
       "  '보톡스',\n",
       "  '처음 가봤는데\\n선샘님과 기타 간호사님들 코디분들 다 친절하시고\\n가격도좋고\\n효과도 있는것같아서 재방문의사 있어요\\n\\n다만 2층에서 데스크있는분들중 바쁜건알겠지만\\n본인기분나쁜걸 표현하시는건지 그렇게 말하시면 안되는거 아닌가 싶어요~\\n주의 부탁드리고\\n병원 시술효과는 좋은편이라 자주 방문할것 같습니다'],\n",
       " ['뮤즈의원 강남점',\n",
       "  ' 알아보고 병원마다 가격 비교해본 결과 당시에 5회 기준 가장 저렴해서 뮤즈의원을 선택하였고 헤어라인을 포함 겨드랑이와 인중 제모도 진행하였습니다 레이저 제모 특성상 다섯번 한다고 효과는 바로 나타나지 않지만 병원 시설이 매우 쾌적하였고 데스트 안내 직원들도 모두 친절하게 응대해주셔서 불편함 없이 다닐수 있었습니다!',\n",
       "  '치료 가격정보'],\n",
       " ['뮤즈의원 강남점',\n",
       "  '시너지레이저',\n",
       "  '한줄평: 사람 많아요\\n\\nMpx 시너지 레이저 3회권 끊어서 받았는데 어떤 의사한테 받느냐에 따라 시간도 효과도 달랐어요 일단 바람이 나오는데 코부근 할때 숨참고 하는게 힘들어요\\n\\n병원리뷰:\\n사람 많아서 도떼기 시장입니다 2시간 기다린적도 있네요 예약해도 30분 기다린적도 있고. 직원들은 데스크 대체적으로 친절 시설 좋지만 이용객이 많다보니 세면대 지저분'],\n",
       " ['뮤즈의원 강남점',\n",
       "  '받은',\n",
       "  '처음 가봤는데\\n선샘님과 기타 간호사님들 코디분들 다 친절하시고\\n가격도좋고\\n효과도 있는것같아서 재방문의사 있어요\\n\\n다만 2층에서 데스크있는분들중 바쁜건알겠지만\\n본인기분나쁜걸 표현하시는건지 그렇게 말하시면 안되는거 아닌가 싶어요~\\n주의 부탁드리고\\n병원 시술효과는 좋은편이라 자주 방문할것 같습니다'],\n",
       " ['뮤즈의원 강남점',\n",
       "  '받',\n",
       "  '처음 가봤는데\\n선샘님과 기타 간호사님들 코디분들 다 친절하시고\\n가격도좋고\\n효과도 있는것같아서 재방문의사 있어요\\n\\n다만 2층에서 데스크있는분들중 바쁜건알겠지만\\n본인기분나쁜걸 표현하시는건지 그렇게 말하시면 안되는거 아닌가 싶어요~\\n주의 부탁드리고\\n병원 시술효과는 좋은편이라 자주 방문할것 같습니다'],\n",
       " ['뮤즈의원 강남점',\n",
       "  '보톡스',\n",
       "  '처음 가봤는데\\n선샘님과 기타 간호사님들 코디분들 다 친절하시고\\n가격도좋고\\n효과도 있는것같아서 재방문의사 있어요\\n\\n다만 2층에서 데스크있는분들중 바쁜건알겠지만\\n본인기분나쁜걸 표현하시는건지 그렇게 말하시면 안되는거 아닌가 싶어요~\\n주의 부탁드리고\\n병원 시술효과는 좋은편이라 자주 방문할것 같습니다']]"
      ]
     },
     "execution_count": 194,
     "metadata": {},
     "output_type": "execute_result"
    }
   ],
   "source": [
    "# 병원 이름 크롤링\n",
    "hospital = driver.find_element('xpath', '/html/body/div[3]/div/div[2]/div[1]/h1').text\n",
    "\n",
    "# 받은 치료 이름 크롤링\n",
    "treatment = driver.find_element('xpath', '/html/body/div[3]/div/div[4]/div[1]/div[4]/div[5]/div[5]/div/div[2]/div[2]').text[8:]\n",
    "\n",
    "# 리뷰 내용 크롤링\n",
    "review = driver.find_element('xpath', '/html/body/div[3]/div/div[4]/div[1]/div[4]/div[5]/div[5]/div/div[2]/div[3]').text\n",
    "\n",
    "# 크롤링 데이터 리스트 삽입\n",
    "data_unit = [hospital, treatment, review]\n",
    "data.append(data_unit)\n",
    "data"
   ]
  },
  {
   "cell_type": "code",
   "execution_count": 131,
   "id": "c02ba4d9",
   "metadata": {},
   "outputs": [],
   "source": [
    "# parsing을 위한 함수를 생성"
   ]
  },
  {
   "cell_type": "code",
   "execution_count": 132,
   "id": "e8e06e0e",
   "metadata": {},
   "outputs": [],
   "source": [
    "# def remove_html_tags(data):\n",
    "#     p = re.compile(r'<.*?>')\n",
    "#     return p.sub(' ', str(data))\n",
    "\n",
    "# def get_crawl(URL):\n",
    "#     response = driver.get(URL)\n",
    "#     html = driver.page_source\n",
    "#     soup7 = BeautifulSoup(html, 'html.parser')\n",
    "#     ex_id_divs = soup7.find('div', {'id': 'view_content'})\n",
    "#     crawl_data = remove_html_tags(ex_id_divs)\n",
    "#     return crawl_data"
   ]
  }
 ],
 "metadata": {
  "kernelspec": {
   "display_name": "Python 3 (ipykernel)",
   "language": "python",
   "name": "python3"
  },
  "language_info": {
   "codemirror_mode": {
    "name": "ipython",
    "version": 3
   },
   "file_extension": ".py",
   "mimetype": "text/x-python",
   "name": "python",
   "nbconvert_exporter": "python",
   "pygments_lexer": "ipython3",
   "version": "3.8.13"
  }
 },
 "nbformat": 4,
 "nbformat_minor": 5
}
