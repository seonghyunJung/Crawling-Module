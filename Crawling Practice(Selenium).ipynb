{
 "cells": [
  {
   "cell_type": "code",
   "execution_count": null,
   "id": "aa102700",
   "metadata": {},
   "outputs": [],
   "source": [
    "# 네이버에 '검색어' 입력 후 검색"
   ]
  },
  {
   "cell_type": "code",
   "execution_count": 8,
   "id": "423382ba",
   "metadata": {},
   "outputs": [
    {
     "name": "stdout",
     "output_type": "stream",
     "text": [
      "Defaulting to user installation because normal site-packages is not writeable\n",
      "Requirement already satisfied: selenium in c:\\users\\dr.song\\appdata\\roaming\\python\\python39\\site-packages (4.3.0)\n",
      "Requirement already satisfied: urllib3[secure,socks]~=1.26 in c:\\programdata\\anaconda3\\lib\\site-packages (from selenium) (1.26.9)\n",
      "Requirement already satisfied: trio~=0.17 in c:\\users\\dr.song\\appdata\\roaming\\python\\python39\\site-packages (from selenium) (0.21.0)\n",
      "Requirement already satisfied: trio-websocket~=0.9 in c:\\users\\dr.song\\appdata\\roaming\\python\\python39\\site-packages (from selenium) (0.9.2)\n",
      "Requirement already satisfied: idna in c:\\programdata\\anaconda3\\lib\\site-packages (from trio~=0.17->selenium) (3.3)\n",
      "Requirement already satisfied: sniffio in c:\\programdata\\anaconda3\\lib\\site-packages (from trio~=0.17->selenium) (1.2.0)\n",
      "Requirement already satisfied: async-generator>=1.9 in c:\\users\\dr.song\\appdata\\roaming\\python\\python39\\site-packages (from trio~=0.17->selenium) (1.10)\n",
      "Requirement already satisfied: cffi>=1.14 in c:\\programdata\\anaconda3\\lib\\site-packages (from trio~=0.17->selenium) (1.15.0)\n",
      "Requirement already satisfied: attrs>=19.2.0 in c:\\programdata\\anaconda3\\lib\\site-packages (from trio~=0.17->selenium) (21.4.0)\n",
      "Requirement already satisfied: outcome in c:\\users\\dr.song\\appdata\\roaming\\python\\python39\\site-packages (from trio~=0.17->selenium) (1.2.0)\n",
      "Requirement already satisfied: sortedcontainers in c:\\programdata\\anaconda3\\lib\\site-packages (from trio~=0.17->selenium) (2.4.0)\n",
      "Requirement already satisfied: pycparser in c:\\programdata\\anaconda3\\lib\\site-packages (from cffi>=1.14->trio~=0.17->selenium) (2.21)\n",
      "Requirement already satisfied: wsproto>=0.14 in c:\\users\\dr.song\\appdata\\roaming\\python\\python39\\site-packages (from trio-websocket~=0.9->selenium) (1.1.0)\n",
      "Requirement already satisfied: PySocks!=1.5.7,<2.0,>=1.5.6 in c:\\programdata\\anaconda3\\lib\\site-packages (from urllib3[secure,socks]~=1.26->selenium) (1.7.1)\n",
      "Requirement already satisfied: certifi in c:\\programdata\\anaconda3\\lib\\site-packages (from urllib3[secure,socks]~=1.26->selenium) (2021.10.8)\n",
      "Requirement already satisfied: cryptography>=1.3.4 in c:\\programdata\\anaconda3\\lib\\site-packages (from urllib3[secure,socks]~=1.26->selenium) (3.4.8)\n",
      "Requirement already satisfied: pyOpenSSL>=0.14 in c:\\programdata\\anaconda3\\lib\\site-packages (from urllib3[secure,socks]~=1.26->selenium) (21.0.0)\n",
      "Requirement already satisfied: six>=1.5.2 in c:\\programdata\\anaconda3\\lib\\site-packages (from pyOpenSSL>=0.14->urllib3[secure,socks]~=1.26->selenium) (1.16.0)\n",
      "Requirement already satisfied: h11<1,>=0.9.0 in c:\\users\\dr.song\\appdata\\roaming\\python\\python39\\site-packages (from wsproto>=0.14->trio-websocket~=0.9->selenium) (0.13.0)\n"
     ]
    }
   ],
   "source": [
    "!pip install selenium\n",
    "\n",
    "# webdriver = 웹페이지를 제어하기 위한 모듈 >> 웹 그자체가 됨!\n",
    "from selenium import webdriver as wb\n",
    "# Keys = 컴퓨터의 키보드와 같은 역할 모듈, 컴퓨터가 쓸 키보드 \n",
    "from selenium.webdriver.common.keys import Keys\n",
    "# time = 컴퓨터한테 쉬는 시간을 부여, 컴퓨터한테 클릭 텀 시간주기\n",
    "import time\n",
    "\n",
    "\n",
    "## 크롬 드라이버 실행\n",
    "#  wb.Chrome() = 컴퓨터가 크롬창을 씀\n",
    "driver = wb.Chrome()\n",
    "# 컴퓨터에서 어디를 들어갈지 url주소를 알려줌\n",
    "url = \"https://www.naver.com/\"\n",
    "driver.get(url)\n",
    "\n",
    "# 1. 검색창의 위치를 알아오기!\n",
    "# element : 요소, 요소는 태그와 내용을 모두합친거\n",
    "# _by_id : id를 통해서\n",
    "# 우리는 네이버 검색창의 위치를 알아볼건데 검사로 알아보니 \n",
    "# 검색창은 페이지에 하나뿐이라 id태그로 id=query로 되어있었다.\n",
    "search = driver.find_element(\"name\", \"query\")\n",
    "\n",
    "\n",
    "\n",
    "# 2. send_keys로 컴퓨터에게 검색어를 알려주자. \n",
    "# 이러면 컴퓨터가 검색창에 내가원하는 글자를 입력해준다.\n",
    "search.send_keys(\"손흥민\")\n",
    "\n",
    "\n",
    "search.submit()"
   ]
  },
  {
   "cell_type": "code",
   "execution_count": null,
   "id": "e76c276f",
   "metadata": {},
   "outputs": [],
   "source": []
  }
 ],
 "metadata": {
  "kernelspec": {
   "display_name": "Python 3 (ipykernel)",
   "language": "python",
   "name": "python3"
  },
  "language_info": {
   "codemirror_mode": {
    "name": "ipython",
    "version": 3
   },
   "file_extension": ".py",
   "mimetype": "text/x-python",
   "name": "python",
   "nbconvert_exporter": "python",
   "pygments_lexer": "ipython3",
   "version": "3.8.13"
  }
 },
 "nbformat": 4,
 "nbformat_minor": 5
}
