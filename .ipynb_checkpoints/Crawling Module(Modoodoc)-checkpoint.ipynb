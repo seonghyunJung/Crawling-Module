{
 "cells": [
  {
   "cell_type": "code",
   "execution_count": 108,
   "id": "e6b1e6da",
   "metadata": {},
   "outputs": [],
   "source": [
    "# 모두닥 크롤링 모듈"
   ]
  },
  {
   "cell_type": "code",
   "execution_count": 109,
   "id": "e9638977",
   "metadata": {},
   "outputs": [
    {
     "data": {
      "text/plain": [
       "'3.8.13 (default, Mar 28 2022, 06:59:08) [MSC v.1916 64 bit (AMD64)]'"
      ]
     },
     "execution_count": 109,
     "metadata": {},
     "output_type": "execute_result"
    }
   ],
   "source": [
    "import sys\n",
    "\n",
    "sys.version"
   ]
  },
  {
   "cell_type": "code",
   "execution_count": 110,
   "id": "0c9392c6",
   "metadata": {},
   "outputs": [
    {
     "name": "stdout",
     "output_type": "stream",
     "text": [
      "Defaulting to user installation because normal site-packages is not writeable\n",
      "Requirement already satisfied: selenium in c:\\users\\dr.song\\appdata\\roaming\\python\\python38\\site-packages (4.3.0)\n",
      "Requirement already satisfied: trio~=0.17 in c:\\users\\dr.song\\appdata\\roaming\\python\\python38\\site-packages (from selenium) (0.21.0)\n",
      "Requirement already satisfied: urllib3[secure,socks]~=1.26 in c:\\programdata\\anaconda3\\lib\\site-packages (from selenium) (1.26.9)\n",
      "Requirement already satisfied: trio-websocket~=0.9 in c:\\users\\dr.song\\appdata\\roaming\\python\\python38\\site-packages (from selenium) (0.9.2)\n",
      "Requirement already satisfied: sortedcontainers in c:\\programdata\\anaconda3\\lib\\site-packages (from trio~=0.17->selenium) (2.4.0)\n",
      "Requirement already satisfied: cffi>=1.14 in c:\\programdata\\anaconda3\\lib\\site-packages (from trio~=0.17->selenium) (1.15.0)\n",
      "Requirement already satisfied: outcome in c:\\users\\dr.song\\appdata\\roaming\\python\\python38\\site-packages (from trio~=0.17->selenium) (1.2.0)\n",
      "Requirement already satisfied: sniffio in c:\\programdata\\anaconda3\\lib\\site-packages (from trio~=0.17->selenium) (1.2.0)\n",
      "Requirement already satisfied: attrs>=19.2.0 in c:\\programdata\\anaconda3\\lib\\site-packages (from trio~=0.17->selenium) (21.4.0)\n",
      "Requirement already satisfied: idna in c:\\programdata\\anaconda3\\lib\\site-packages (from trio~=0.17->selenium) (3.3)\n",
      "Requirement already satisfied: async-generator>=1.9 in c:\\users\\dr.song\\appdata\\roaming\\python\\python38\\site-packages (from trio~=0.17->selenium) (1.10)\n",
      "Requirement already satisfied: pycparser in c:\\programdata\\anaconda3\\lib\\site-packages (from cffi>=1.14->trio~=0.17->selenium) (2.21)\n",
      "Requirement already satisfied: wsproto>=0.14 in c:\\users\\dr.song\\appdata\\roaming\\python\\python38\\site-packages (from trio-websocket~=0.9->selenium) (1.1.0)\n",
      "Requirement already satisfied: pyOpenSSL>=0.14 in c:\\programdata\\anaconda3\\lib\\site-packages (from urllib3[secure,socks]~=1.26->selenium) (21.0.0)\n",
      "Requirement already satisfied: certifi in c:\\programdata\\anaconda3\\lib\\site-packages (from urllib3[secure,socks]~=1.26->selenium) (2021.10.8)\n",
      "Requirement already satisfied: cryptography>=1.3.4 in c:\\programdata\\anaconda3\\lib\\site-packages (from urllib3[secure,socks]~=1.26->selenium) (3.4.8)\n",
      "Requirement already satisfied: PySocks!=1.5.7,<2.0,>=1.5.6 in c:\\programdata\\anaconda3\\lib\\site-packages (from urllib3[secure,socks]~=1.26->selenium) (1.7.1)\n",
      "Requirement already satisfied: six>=1.5.2 in c:\\programdata\\anaconda3\\lib\\site-packages (from pyOpenSSL>=0.14->urllib3[secure,socks]~=1.26->selenium) (1.16.0)\n",
      "Requirement already satisfied: h11<1,>=0.9.0 in c:\\users\\dr.song\\appdata\\roaming\\python\\python38\\site-packages (from wsproto>=0.14->trio-websocket~=0.9->selenium) (0.13.0)\n"
     ]
    }
   ],
   "source": [
    "!pip install selenium"
   ]
  },
  {
   "cell_type": "code",
   "execution_count": 111,
   "id": "d00f74f8",
   "metadata": {},
   "outputs": [],
   "source": [
    "import pandas as pd    # csv\n",
    "from selenium.webdriver.chrome.options import *\n",
    "from bs4 import *\n",
    "import time\n",
    "import re\n",
    "import base64    # encoder\n",
    "# webdriver = 웹페이지를 제어하기 위한 모듈 >> 웹 그자체가 됨!\n",
    "from selenium import webdriver as wb\n",
    "# Keys = 컴퓨터의 키보드와 같은 역할 모듈, 컴퓨터가 쓸 키보드 \n",
    "from selenium.webdriver.common.keys import Keys\n",
    "\n",
    "chrome_options = Options()\n",
    "chrome_options.add_argument('--headless')\n",
    "chrome_options.add_argument('--no-sandbox')\n",
    "chrome_options.add_argument('--disable-dev-shm-usage')"
   ]
  },
  {
   "cell_type": "code",
   "execution_count": 168,
   "id": "8e9e6422",
   "metadata": {},
   "outputs": [],
   "source": [
    "# 로그인\n",
    "def login(id, password):\n",
    "    driver.find_element('xpath', '/html/body/nav/div/div/ul[2]/ul/li[3]/a').click() #id 속성으로 접근\n",
    "\n",
    "    user_email = driver.find_element('xpath', '/html/body/div[12]/div/div/div[3]/form/input[1]')\n",
    "    user_email.send_keys(id)\n",
    "    user_password = driver.find_element('xpath', '/html/body/div[12]/div/div/div[3]/form/input[2]')\n",
    "    user_password.send_keys(password)\n",
    "\n",
    "    # 로그인 버튼 클릭\n",
    "    driver.find_element('xpath', '/html/body/div[12]/div/div/div[3]/form/button').click()\n",
    "    time.sleep(3)\n",
    "\n",
    "    \n",
    "# 크롤링 하려는 병원 이동\n",
    "def move_to_hospital(url):\n",
    "    driver.get(url)\n",
    "    time.sleep(1)\n",
    "\n",
    "    \n",
    "# 병원의 리뷰 페이지 수 계산\n",
    "def count_page():\n",
    "    num_review = driver.find_element('xpath', '/html/body/div[3]/div/div[2]/div[2]/div/div[1]/div[1]').text[7:]\n",
    "    num_review = int(num_review)\n",
    "\n",
    "    num_page = (num_review // 10) + 1\n",
    "\n",
    "    return num_page\n",
    "\n",
    "\n",
    "# 텍스트 전처리\n",
    "def clean_text(text):\n",
    "    cleaned_text = re.sub('[a-zA-Z]' , '', text)\n",
    "    cleaned_text = re.sub('[\\{\\}\\[\\]\\/?.,;:|\\)*~`!^\\-_+<>@\\#$%&\\\\\\=\\(\\'\\\"]','', cleaned_text)\n",
    "    cleaned_text = re.sub('[\\n]', ' ', cleaned_text)\n",
    "    \n",
    "    return cleaned_text\n",
    "\n",
    "\n",
    "# 병원 페이지로 이동\n",
    "def move_to_hospital(hospital):\n",
    "    search_box = driver.find_element('xpath', '/html/body/div[2]/div/div[3]/form/div/div/span/input[2]')\n",
    "    search_box.send_keys(hospital)\n",
    "    driver.find_element('xpath', '/html/body/div[2]/div/div[3]/form/div/div/div/button/img').click()\n",
    "    time.sleep(1)\n",
    "\n",
    "    for i in range(10):\n",
    "        try:\n",
    "            element = driver.find_element('xpath', f'/html/body/div[3]/div/div/div[1]/div[3]/div[{i}]/a/div/div[2]/div[2]/div[1]/div[1]/div[1]')\n",
    "\n",
    "            if element.text == hospital:\n",
    "                element.click()\n",
    "                break\n",
    "\n",
    "        except:\n",
    "            pass"
   ]
  },
  {
   "cell_type": "code",
   "execution_count": null,
   "id": "399bb59e",
   "metadata": {},
   "outputs": [],
   "source": [
    "# 모두닥 페이지 접속 후 로그인"
   ]
  },
  {
   "cell_type": "code",
   "execution_count": 159,
   "id": "a8c99021",
   "metadata": {},
   "outputs": [],
   "source": [
    "# 모두닥 페이지 url\n",
    "modoodoc_url = \"https://www.modoodoc.com/\"\n",
    "\n",
    "## 크롬 드라이버 실행\n",
    "#  wb.Chrome() = 컴퓨터가 크롬창을 씀\n",
    "driver = wb.Chrome()\n",
    "\n",
    "# 모두닥 페이지 이동\n",
    "driver.get(modoodoc_url)\n",
    "\n",
    "# 로그인\n",
    "id = 'random1234@random.com'\n",
    "password = 'random1234'\n",
    "login(id, password)"
   ]
  },
  {
   "cell_type": "code",
   "execution_count": 167,
   "id": "40640cf4",
   "metadata": {
    "scrolled": true
   },
   "outputs": [
    {
     "name": "stdout",
     "output_type": "stream",
     "text": [
      "휴먼피부과의원\n"
     ]
    },
    {
     "ename": "KeyboardInterrupt",
     "evalue": "Interrupted by user",
     "output_type": "error",
     "traceback": [
      "\u001b[1;31m---------------------------------------------------------------------------\u001b[0m",
      "\u001b[1;31mKeyboardInterrupt\u001b[0m                         Traceback (most recent call last)",
      "Input \u001b[1;32mIn [167]\u001b[0m, in \u001b[0;36m<cell line: 7>\u001b[1;34m()\u001b[0m\n\u001b[0;32m      5\u001b[0m hospital_list \u001b[38;5;241m=\u001b[39m []\n\u001b[0;32m      7\u001b[0m \u001b[38;5;28;01mfor\u001b[39;00m i \u001b[38;5;129;01min\u001b[39;00m \u001b[38;5;28mrange\u001b[39m(\u001b[38;5;241m2\u001b[39m):\n\u001b[0;32m      8\u001b[0m     \u001b[38;5;66;03m# 병원 이름 검색 통해 접근(리스트 불러와서 넣는 것으로 변경 예정)\u001b[39;00m\n\u001b[1;32m----> 9\u001b[0m     hospital \u001b[38;5;241m=\u001b[39m \u001b[38;5;28;43minput\u001b[39;49m\u001b[43m(\u001b[49m\u001b[43m)\u001b[49m\n\u001b[0;32m     10\u001b[0m \u001b[38;5;66;03m#     search_box = driver.find_element('xpath', '/html/body/div[2]/div/div[3]/form/div/div/span/input[2]')\u001b[39;00m\n\u001b[0;32m     11\u001b[0m \u001b[38;5;66;03m#     search_box.send_keys(hospital)\u001b[39;00m\n\u001b[0;32m     12\u001b[0m \u001b[38;5;66;03m#     driver.find_element('xpath', '/html/body/div[2]/div/div[3]/form/div/div/div/button/img').click()\u001b[39;00m\n\u001b[1;32m   (...)\u001b[0m\n\u001b[0;32m     23\u001b[0m \u001b[38;5;66;03m#         except:\u001b[39;00m\n\u001b[0;32m     24\u001b[0m \u001b[38;5;66;03m#             pass\u001b[39;00m\n\u001b[0;32m     25\u001b[0m     move_to_hospital(hospital)\n",
      "File \u001b[1;32mC:\\ProgramData\\Anaconda3\\lib\\site-packages\\ipykernel\\kernelbase.py:1075\u001b[0m, in \u001b[0;36mKernel.raw_input\u001b[1;34m(self, prompt)\u001b[0m\n\u001b[0;32m   1071\u001b[0m \u001b[38;5;28;01mif\u001b[39;00m \u001b[38;5;129;01mnot\u001b[39;00m \u001b[38;5;28mself\u001b[39m\u001b[38;5;241m.\u001b[39m_allow_stdin:\n\u001b[0;32m   1072\u001b[0m     \u001b[38;5;28;01mraise\u001b[39;00m StdinNotImplementedError(\n\u001b[0;32m   1073\u001b[0m         \u001b[38;5;124m\"\u001b[39m\u001b[38;5;124mraw_input was called, but this frontend does not support input requests.\u001b[39m\u001b[38;5;124m\"\u001b[39m\n\u001b[0;32m   1074\u001b[0m     )\n\u001b[1;32m-> 1075\u001b[0m \u001b[38;5;28;01mreturn\u001b[39;00m \u001b[38;5;28;43mself\u001b[39;49m\u001b[38;5;241;43m.\u001b[39;49m\u001b[43m_input_request\u001b[49m\u001b[43m(\u001b[49m\n\u001b[0;32m   1076\u001b[0m \u001b[43m    \u001b[49m\u001b[38;5;28;43mstr\u001b[39;49m\u001b[43m(\u001b[49m\u001b[43mprompt\u001b[49m\u001b[43m)\u001b[49m\u001b[43m,\u001b[49m\n\u001b[0;32m   1077\u001b[0m \u001b[43m    \u001b[49m\u001b[38;5;28;43mself\u001b[39;49m\u001b[38;5;241;43m.\u001b[39;49m\u001b[43m_parent_ident\u001b[49m\u001b[43m[\u001b[49m\u001b[38;5;124;43m\"\u001b[39;49m\u001b[38;5;124;43mshell\u001b[39;49m\u001b[38;5;124;43m\"\u001b[39;49m\u001b[43m]\u001b[49m\u001b[43m,\u001b[49m\n\u001b[0;32m   1078\u001b[0m \u001b[43m    \u001b[49m\u001b[38;5;28;43mself\u001b[39;49m\u001b[38;5;241;43m.\u001b[39;49m\u001b[43mget_parent\u001b[49m\u001b[43m(\u001b[49m\u001b[38;5;124;43m\"\u001b[39;49m\u001b[38;5;124;43mshell\u001b[39;49m\u001b[38;5;124;43m\"\u001b[39;49m\u001b[43m)\u001b[49m\u001b[43m,\u001b[49m\n\u001b[0;32m   1079\u001b[0m \u001b[43m    \u001b[49m\u001b[43mpassword\u001b[49m\u001b[38;5;241;43m=\u001b[39;49m\u001b[38;5;28;43;01mFalse\u001b[39;49;00m\u001b[43m,\u001b[49m\n\u001b[0;32m   1080\u001b[0m \u001b[43m\u001b[49m\u001b[43m)\u001b[49m\n",
      "File \u001b[1;32mC:\\ProgramData\\Anaconda3\\lib\\site-packages\\ipykernel\\kernelbase.py:1120\u001b[0m, in \u001b[0;36mKernel._input_request\u001b[1;34m(self, prompt, ident, parent, password)\u001b[0m\n\u001b[0;32m   1117\u001b[0m             \u001b[38;5;28;01mbreak\u001b[39;00m\n\u001b[0;32m   1118\u001b[0m \u001b[38;5;28;01mexcept\u001b[39;00m \u001b[38;5;167;01mKeyboardInterrupt\u001b[39;00m:\n\u001b[0;32m   1119\u001b[0m     \u001b[38;5;66;03m# re-raise KeyboardInterrupt, to truncate traceback\u001b[39;00m\n\u001b[1;32m-> 1120\u001b[0m     \u001b[38;5;28;01mraise\u001b[39;00m \u001b[38;5;167;01mKeyboardInterrupt\u001b[39;00m(\u001b[38;5;124m\"\u001b[39m\u001b[38;5;124mInterrupted by user\u001b[39m\u001b[38;5;124m\"\u001b[39m) \u001b[38;5;28;01mfrom\u001b[39;00m \u001b[38;5;28mNone\u001b[39m\n\u001b[0;32m   1121\u001b[0m \u001b[38;5;28;01mexcept\u001b[39;00m \u001b[38;5;167;01mException\u001b[39;00m:\n\u001b[0;32m   1122\u001b[0m     \u001b[38;5;28mself\u001b[39m\u001b[38;5;241m.\u001b[39mlog\u001b[38;5;241m.\u001b[39mwarning(\u001b[38;5;124m\"\u001b[39m\u001b[38;5;124mInvalid Message:\u001b[39m\u001b[38;5;124m\"\u001b[39m, exc_info\u001b[38;5;241m=\u001b[39m\u001b[38;5;28;01mTrue\u001b[39;00m)\n",
      "\u001b[1;31mKeyboardInterrupt\u001b[0m: Interrupted by user"
     ]
    }
   ],
   "source": [
    "# 크롤링 후 리스트 삽입\n",
    "\n",
    "data = []\n",
    "data_unit = []\n",
    "hospital_list = []\n",
    "\n",
    "for i in range(2):\n",
    "    # 병원 이름 검색 통해 접근(리스트 불러와서 넣는 것으로 변경 예정)\n",
    "    hospital = input()\n",
    "    move_to_hospital(hospital)\n",
    "    time.sleep(1)\n",
    "    \n",
    "    current_url = driver.current_url\n",
    "    num_page = count_page()\n",
    "    \n",
    "    for page in range(1, num_page+1):\n",
    "        url = current_url + f\"?page={page}\"\n",
    "        driver.get(url)\n",
    "        time.sleep(1)\n",
    "\n",
    "        for i in range(2, 16):\n",
    "            try:\n",
    "                # 병원 이름 크롤링\n",
    "                hospital = driver.find_element('xpath', '/html/body/div[3]/div/div[2]/div[1]/h1').text\n",
    "\n",
    "                # 받은 치료 이름 크롤링\n",
    "                treatment = driver.find_element('xpath', f'/html/body/div[3]/div/div[4]/div[1]/div[4]/div[5]/div[{i}]/div/div[2]/div[2]').text\n",
    "\n",
    "\n",
    "                # 받은 치료 명시 안된 부분 처리\n",
    "                if treatment[0] != '받':\n",
    "                    continue\n",
    "                treatment = treatment[8:]\n",
    "\n",
    "                # 리뷰 내용 크롤링\n",
    "                review = driver.find_element('xpath', f'/html/body/div[3]/div/div[4]/div[1]/div[4]/div[5]/div[{i}]/div/div[2]/div[3]').text\n",
    "                # 리뷰 텍스트 전처리\n",
    "                review = clean_text(review)\n",
    "\n",
    "                # 크롤링 데이터 리스트 삽입\n",
    "                data_unit = [hospital, treatment, review]\n",
    "                data.append(data_unit)\n",
    "\n",
    "            except:\n",
    "                pass\n",
    "            \n",
    "    driver.get(modoodoc_url)\n",
    "    time.sleep(1)"
   ]
  },
  {
   "cell_type": "code",
   "execution_count": 161,
   "id": "b7907df7",
   "metadata": {},
   "outputs": [
    {
     "data": {
      "text/html": [
       "<div>\n",
       "<style scoped>\n",
       "    .dataframe tbody tr th:only-of-type {\n",
       "        vertical-align: middle;\n",
       "    }\n",
       "\n",
       "    .dataframe tbody tr th {\n",
       "        vertical-align: top;\n",
       "    }\n",
       "\n",
       "    .dataframe thead th {\n",
       "        text-align: right;\n",
       "    }\n",
       "</style>\n",
       "<table border=\"1\" class=\"dataframe\">\n",
       "  <thead>\n",
       "    <tr style=\"text-align: right;\">\n",
       "      <th></th>\n",
       "      <th>병원 이름</th>\n",
       "      <th>받은 치료</th>\n",
       "      <th>리뷰</th>\n",
       "    </tr>\n",
       "  </thead>\n",
       "  <tbody>\n",
       "    <tr>\n",
       "      <th>0</th>\n",
       "      <td>휴먼피부과의원</td>\n",
       "      <td>여드름 약물치료</td>\n",
       "      <td>여드름으로 피부상담갔는데 진료 엄청 짧게 봐주시네요 그리고 의사쌤이 마스크를 안쓰고...</td>\n",
       "    </tr>\n",
       "    <tr>\n",
       "      <th>1</th>\n",
       "      <td>휴먼피부과의원</td>\n",
       "      <td>여드름 압출</td>\n",
       "      <td>여드름 압출했고 주사 가격이 좀 한 방에 얼마 이렇게 받으시더라고요 관리 받는다 했...</td>\n",
       "    </tr>\n",
       "    <tr>\n",
       "      <th>2</th>\n",
       "      <td>휴먼피부과의원</td>\n",
       "      <td>염증주사</td>\n",
       "      <td>여드름 염증주사맞으러 갔는데 엄청 빠르고 꼼꼼하게 주사놔주셨어요 이마랑 헤어라인부분...</td>\n",
       "    </tr>\n",
       "    <tr>\n",
       "      <th>3</th>\n",
       "      <td>휴먼피부과의원</td>\n",
       "      <td>점/비립종/쥐젖 제거 (레이저)</td>\n",
       "      <td>피부과 전문의를 검색해서 찾아갔던 병원으로 몸에 없던 점이 생겨서 큰걱정을 했으나 ...</td>\n",
       "    </tr>\n",
       "    <tr>\n",
       "      <th>4</th>\n",
       "      <td>휴먼피부과의원</td>\n",
       "      <td>염증주사</td>\n",
       "      <td>피부 토닝  주근깨 없애는것도 하고  피부 트러블이 나거나 문제 있을때마다 방문했어...</td>\n",
       "    </tr>\n",
       "    <tr>\n",
       "      <th>...</th>\n",
       "      <td>...</td>\n",
       "      <td>...</td>\n",
       "      <td>...</td>\n",
       "    </tr>\n",
       "    <tr>\n",
       "      <th>92</th>\n",
       "      <td>이든피부과의원</td>\n",
       "      <td>비립종 제거</td>\n",
       "      <td>한줄평 다음에 또 갈 것 같아요  환자가 들어갈 때 나갈 때 큰 소리로 일어서서 직...</td>\n",
       "    </tr>\n",
       "    <tr>\n",
       "      <th>93</th>\n",
       "      <td>이든피부과의원</td>\n",
       "      <td>남성제모</td>\n",
       "      <td>한줄평 의사선생님이 매우 친절하십니다  예전부터 레이저 제모를 하고 있어서12회 받...</td>\n",
       "    </tr>\n",
       "    <tr>\n",
       "      <th>94</th>\n",
       "      <td>이든피부과의원</td>\n",
       "      <td>찰과상</td>\n",
       "      <td>한줄평 추천합니다  일단 강원장님이 너무 친절하세요 상세하게 보고 찰과상 치료라 돈...</td>\n",
       "    </tr>\n",
       "    <tr>\n",
       "      <th>95</th>\n",
       "      <td>이든피부과의원</td>\n",
       "      <td>두드러기</td>\n",
       "      <td>한줄평 너무너무 추천  친절하시다고 들어서 찾아간 병원이었는데 정말로 친절하셨습니다...</td>\n",
       "    </tr>\n",
       "    <tr>\n",
       "      <th>96</th>\n",
       "      <td>이든피부과의원</td>\n",
       "      <td>습진</td>\n",
       "      <td>미아사거리역 주변에서 피부과를 찾아보다가 시술 위주로 돌아가는 곳이 대부분이라 새로...</td>\n",
       "    </tr>\n",
       "  </tbody>\n",
       "</table>\n",
       "<p>97 rows × 3 columns</p>\n",
       "</div>"
      ],
      "text/plain": [
       "      병원 이름              받은 치료  \\\n",
       "0   휴먼피부과의원           여드름 약물치료   \n",
       "1   휴먼피부과의원             여드름 압출   \n",
       "2   휴먼피부과의원               염증주사   \n",
       "3   휴먼피부과의원  점/비립종/쥐젖 제거 (레이저)   \n",
       "4   휴먼피부과의원               염증주사   \n",
       "..      ...                ...   \n",
       "92  이든피부과의원             비립종 제거   \n",
       "93  이든피부과의원               남성제모   \n",
       "94  이든피부과의원                찰과상   \n",
       "95  이든피부과의원               두드러기   \n",
       "96  이든피부과의원                 습진   \n",
       "\n",
       "                                                   리뷰  \n",
       "0   여드름으로 피부상담갔는데 진료 엄청 짧게 봐주시네요 그리고 의사쌤이 마스크를 안쓰고...  \n",
       "1   여드름 압출했고 주사 가격이 좀 한 방에 얼마 이렇게 받으시더라고요 관리 받는다 했...  \n",
       "2   여드름 염증주사맞으러 갔는데 엄청 빠르고 꼼꼼하게 주사놔주셨어요 이마랑 헤어라인부분...  \n",
       "3   피부과 전문의를 검색해서 찾아갔던 병원으로 몸에 없던 점이 생겨서 큰걱정을 했으나 ...  \n",
       "4   피부 토닝  주근깨 없애는것도 하고  피부 트러블이 나거나 문제 있을때마다 방문했어...  \n",
       "..                                                ...  \n",
       "92  한줄평 다음에 또 갈 것 같아요  환자가 들어갈 때 나갈 때 큰 소리로 일어서서 직...  \n",
       "93  한줄평 의사선생님이 매우 친절하십니다  예전부터 레이저 제모를 하고 있어서12회 받...  \n",
       "94  한줄평 추천합니다  일단 강원장님이 너무 친절하세요 상세하게 보고 찰과상 치료라 돈...  \n",
       "95  한줄평 너무너무 추천  친절하시다고 들어서 찾아간 병원이었는데 정말로 친절하셨습니다...  \n",
       "96  미아사거리역 주변에서 피부과를 찾아보다가 시술 위주로 돌아가는 곳이 대부분이라 새로...  \n",
       "\n",
       "[97 rows x 3 columns]"
      ]
     },
     "execution_count": 161,
     "metadata": {},
     "output_type": "execute_result"
    }
   ],
   "source": [
    "# 데이터 프레임 생성 및 데이터 입력\n",
    "df = pd.DataFrame(columns = ['병원 이름', '받은 치료', '리뷰'])\n",
    "\n",
    "num = len(data)\n",
    "\n",
    "for i in range(num):\n",
    "    df.loc[i]=data[i]\n",
    "   \n",
    "df"
   ]
  },
  {
   "cell_type": "code",
   "execution_count": 163,
   "id": "ab626dee",
   "metadata": {},
   "outputs": [],
   "source": [
    "# 엑셀 저장\n",
    "df.to_excel('prototype.xlsx')"
   ]
  },
  {
   "cell_type": "code",
   "execution_count": 117,
   "id": "19884ddb",
   "metadata": {},
   "outputs": [
    {
     "name": "stdout",
     "output_type": "stream",
     "text": [
      "4.3.0\n"
     ]
    }
   ],
   "source": [
    "# 버전 체크\n",
    "\n",
    "print(webdriver.__version__)"
   ]
  },
  {
   "cell_type": "code",
   "execution_count": 118,
   "id": "9ec9b512",
   "metadata": {},
   "outputs": [],
   "source": [
    "# # 병원 이름 크롤링\n",
    "# hospital = driver.find_element('xpath', '/html/body/div[3]/div/div[2]/div[1]/h1').text\n",
    "\n",
    "# # 받은 치료 이름 크롤링\n",
    "# treatment = driver.find_element('xpath', '/html/body/div[3]/div/div[4]/div[1]/div[4]/div[5]/div[5]/div/div[2]/div[2]').text[8:]\n",
    "\n",
    "# # 리뷰 내용 크롤링\n",
    "# review = driver.find_element('xpath', '/html/body/div[3]/div/div[4]/div[1]/div[4]/div[5]/div[5]/div/div[2]/div[3]').text\n",
    "\n",
    "# # 크롤링 데이터 리스트 삽입\n",
    "# data_unit = [hospital, treatment, review]\n",
    "# data.append(data_unit)\n",
    "# data"
   ]
  },
  {
   "cell_type": "code",
   "execution_count": 119,
   "id": "c02ba4d9",
   "metadata": {},
   "outputs": [],
   "source": [
    "# parsing을 위한 함수를 생성"
   ]
  },
  {
   "cell_type": "code",
   "execution_count": 120,
   "id": "e8e06e0e",
   "metadata": {},
   "outputs": [],
   "source": [
    "# def remove_html_tags(data):\n",
    "#     p = re.compile(r'<.*?>')\n",
    "#     return p.sub(' ', str(data))\n",
    "\n",
    "# def get_crawl(URL):\n",
    "#     response = driver.get(URL)\n",
    "#     html = driver.page_source\n",
    "#     soup7 = BeautifulSoup(html, 'html.parser')\n",
    "#     ex_id_divs = soup7.find('div', {'id': 'view_content'})\n",
    "#     crawl_data = remove_html_tags(ex_id_divs)\n",
    "#     return crawl_data"
   ]
  },
  {
   "cell_type": "code",
   "execution_count": 121,
   "id": "b0442d2f",
   "metadata": {},
   "outputs": [],
   "source": [
    "# # 리뷰 페이지 이동\n",
    "# num_page = count_page()\n",
    "\n",
    "# current_url = driver.current_url\n",
    "\n",
    "# for i in range(2, num_page+1):\n",
    "#     url = current_url + f\"?page={i}\"\n",
    "#     driver.get(url)\n",
    "#     time.sleep(1)"
   ]
  },
  {
   "cell_type": "code",
   "execution_count": 170,
   "id": "668ed200",
   "metadata": {
    "scrolled": true
   },
   "outputs": [
    {
     "name": "stdout",
     "output_type": "stream",
     "text": [
      "그리다성형외과\n"
     ]
    }
   ],
   "source": [
    "# 병원 이름 검색 통해 접근(리스트 불러와서 넣는 것으로 변경 예정)\n",
    "hospital = input()\n",
    "search_box = driver.find_element('xpath', '/html/body/div[2]/div/div[3]/form/div/div/span/input[2]')\n",
    "search_box.send_keys(hospital)\n",
    "driver.find_element('xpath', '/html/body/div[2]/div/div[3]/form/div/div/div/button/img').click()\n",
    "time.sleep(1)\n",
    "\n",
    "for i in range(10):\n",
    "    try:\n",
    "        element = driver.find_element('xpath', f'/html/body/div[3]/div/div/div[1]/div[3]/div[{i}]/a/div/div[2]/div[2]/div[1]/div[1]/div[1]')\n",
    "    \n",
    "        if element.text[:2] == hospital[:2]:\n",
    "            element.click()\n",
    "            break\n",
    "            \n",
    "    except:\n",
    "        pass\n",
    "        \n",
    "time.sleep(1)"
   ]
  },
  {
   "cell_type": "code",
   "execution_count": null,
   "id": "ace2caba",
   "metadata": {},
   "outputs": [],
   "source": []
  }
 ],
 "metadata": {
  "kernelspec": {
   "display_name": "Python 3 (ipykernel)",
   "language": "python",
   "name": "python3"
  },
  "language_info": {
   "codemirror_mode": {
    "name": "ipython",
    "version": 3
   },
   "file_extension": ".py",
   "mimetype": "text/x-python",
   "name": "python",
   "nbconvert_exporter": "python",
   "pygments_lexer": "ipython3",
   "version": "3.8.13"
  }
 },
 "nbformat": 4,
 "nbformat_minor": 5
}
